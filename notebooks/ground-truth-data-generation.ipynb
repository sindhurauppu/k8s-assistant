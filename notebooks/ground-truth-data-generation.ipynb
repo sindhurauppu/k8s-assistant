{
 "cells": [
  {
   "cell_type": "code",
   "execution_count": 66,
   "id": "024610a1-85ce-405c-9c4d-048ba5ca08b1",
   "metadata": {},
   "outputs": [],
   "source": [
    "import json"
   ]
  },
  {
   "cell_type": "code",
   "execution_count": 67,
   "id": "0ac5636c-4115-4601-ba49-27bd3b2dc955",
   "metadata": {},
   "outputs": [],
   "source": [
    "with open('../data/kubernetes_docs_combined.json', 'rt') as f_in:\n",
    "    documents = json.load(f_in)"
   ]
  },
  {
   "cell_type": "code",
   "execution_count": 70,
   "id": "8f18f035-1205-411e-a7e9-eac6f01fa2a9",
   "metadata": {},
   "outputs": [],
   "source": [
    "import hashlib\n",
    "\n",
    "def generate_document_id(doc):\n",
    "    chunk_id = doc['title']\n",
    "    hash_object = hashlib.md5(chunk_id.encode())\n",
    "    hash_hex = hash_object.hexdigest()\n",
    "    document_id = hash_hex[:8]\n",
    "    return document_id"
   ]
  },
  {
   "cell_type": "code",
   "execution_count": 71,
   "id": "8cf4e61c-fc8b-44d7-a9f4-a832b432e91c",
   "metadata": {},
   "outputs": [],
   "source": [
    "for doc in documents:\n",
    "    doc['id'] = generate_document_id(doc)"
   ]
  },
  {
   "cell_type": "code",
   "execution_count": 72,
   "id": "030813e3-306f-4f30-baf7-1145ac9fed90",
   "metadata": {},
   "outputs": [
    {
     "data": {
      "text/plain": [
       "{'title': 'Dynamic Resource Allocation',\n",
       " 'text': 'A Kubernetes feature that lets you request and share resources among Pods.\\nThese resources are often attached\\n like hardware\\naccelerators.\\n\\n<!--more-->\\n\\nWith DRA, device drivers and cluster admins define device _classes_ that are\\navailable to _claim_ in workloads. Kubernetes allocates matching devices to\\nspecific claims and places the corresponding Pods on nodes that can access the\\nallocated devices.',\n",
       " 'source_file': 'dra.md',\n",
       " 'id': '6a399164'}"
      ]
     },
     "execution_count": 72,
     "metadata": {},
     "output_type": "execute_result"
    }
   ],
   "source": [
    "documents[3]"
   ]
  },
  {
   "cell_type": "code",
   "execution_count": 73,
   "id": "7de47333-5c75-4051-a893-302137bc74a1",
   "metadata": {},
   "outputs": [],
   "source": [
    "from collections import defaultdict"
   ]
  },
  {
   "cell_type": "code",
   "execution_count": 74,
   "id": "2133e016-4d9c-4264-a260-0afd3e97b130",
   "metadata": {},
   "outputs": [],
   "source": [
    "hashes = defaultdict(list)\n",
    "\n",
    "for doc in documents:\n",
    "    doc_id = doc['id']\n",
    "    hashes[doc_id].append(doc)"
   ]
  },
  {
   "cell_type": "code",
   "execution_count": 75,
   "id": "bfc7bafc-9996-448e-affe-db33ab0a1d79",
   "metadata": {},
   "outputs": [
    {
     "data": {
      "text/plain": [
       "(228, 229)"
      ]
     },
     "execution_count": 75,
     "metadata": {},
     "output_type": "execute_result"
    }
   ],
   "source": [
    "len(hashes), len(documents)"
   ]
  },
  {
   "cell_type": "code",
   "execution_count": 76,
   "id": "33a12f2e-bb6a-4852-8b6f-a65a4e0a9a66",
   "metadata": {},
   "outputs": [
    {
     "name": "stdout",
     "output_type": "stream",
     "text": [
      "0f12ee5c 2\n"
     ]
    }
   ],
   "source": [
    "for k, values in hashes.items():\n",
    "    if len(values) > 1:\n",
    "        print(k, len(values))"
   ]
  },
  {
   "cell_type": "code",
   "execution_count": 77,
   "id": "6e7d661c-c860-424c-b41b-0cc7e47b8e4f",
   "metadata": {},
   "outputs": [
    {
     "data": {
      "text/plain": [
       "[{'title': 'kubectl',\n",
       "  'text': 'kubectl controls the Kubernetes cluster manager.\\n\\nFind more information in [Command line tool](/docs/reference/kubectl/) (`kubectl`).\\n\\n```shell\\nkubectl [flags]\\n```',\n",
       "  'source_file': 'kubectl.md',\n",
       "  'id': '0f12ee5c'},\n",
       " {'title': 'kubectl',\n",
       "  'text': 'kubectl controls the Kubernetes cluster manager.\\n\\n Find more information at: https://kubernetes.io/docs/reference/kubectl/\\n\\n```\\nkubectl [flags]\\n```',\n",
       "  'source_file': 'kubectl.md',\n",
       "  'id': '0f12ee5c'}]"
      ]
     },
     "execution_count": 77,
     "metadata": {},
     "output_type": "execute_result"
    }
   ],
   "source": [
    "hashes['0f12ee5c']"
   ]
  },
  {
   "cell_type": "code",
   "execution_count": 78,
   "id": "20e62f85-aa60-4baa-86cd-43a1fe38cacd",
   "metadata": {},
   "outputs": [],
   "source": [
    "with open('../data/docs-ids.json', 'wt') as f_out:\n",
    "    json.dump(documents, f_out, indent=2)"
   ]
  },
  {
   "cell_type": "code",
   "execution_count": 79,
   "id": "71aadf78-166b-4643-aaf1-58a4d240b822",
   "metadata": {},
   "outputs": [
    {
     "name": "stdout",
     "output_type": "stream",
     "text": [
      "[\n",
      "  {\n",
      "    \"title\": \"Label\",\n",
      "    \"text\": \"Tags objects with identifying attributes that are meaningful and relevant to users.\\n\\n<!--more--> \\n\\nLabels are key/value pairs that are attached to objects such as . They are used to organize and to select subsets of objects.\",\n",
      "    \"source_file\": \"label.md\",\n",
      "    \"id\": \"b021df6a\"\n",
      "  },\n",
      "  {\n",
      "    \"title\": \"Probe\",\n",
      "    \"text\": \"A check that the  periodically performs against a container that is \\nrunning in a pod, that will define container's state and health and informing container's lifecycle.\\n\\n<!--more-->\\n \\nTo learn more, read [container probes](/docs/concepts/workloads/pods/pod-lifecycle/#container-probes).\",\n"
     ]
    }
   ],
   "source": [
    "!head ../data_gloss/docs-ids.json"
   ]
  },
  {
   "cell_type": "code",
   "execution_count": 86,
   "id": "0e685411-37db-4fad-8917-21a3be277582",
   "metadata": {},
   "outputs": [],
   "source": [
    "prompt_template = \"\"\"\n",
    "You are a curious student learning Kubernetes. \n",
    "Based on the given chunk of Kubernetes documentation, formulate 3-5 questions a student might ask to understand the content. \n",
    "Each question should be complete, clear, and answerable using only the information in the text. \n",
    "Avoid copying long phrases from the text; use your own words when possible.\n",
    "\n",
    "Text content:\n",
    "{text}\n",
    "\n",
    "Provide the output as parsable JSON without any code blocks, like this:\n",
    "\n",
    "[\"question1\", \"question2\", \"question3\"]\n",
    "\"\"\".strip()"
   ]
  },
  {
   "cell_type": "code",
   "execution_count": 87,
   "id": "54f27da3-e68b-424e-a352-f1a629388619",
   "metadata": {},
   "outputs": [],
   "source": [
    "from openai import OpenAI\n",
    "client = OpenAI()"
   ]
  },
  {
   "cell_type": "code",
   "execution_count": 88,
   "id": "d0e5ff7e-6fe4-4618-9f5e-2218c57848c2",
   "metadata": {},
   "outputs": [],
   "source": [
    "def generate_questions(doc):\n",
    "    prompt = prompt_template.format(**doc)\n",
    "\n",
    "    response = client.chat.completions.create(\n",
    "        model='gpt-4o',\n",
    "        messages=[{\"role\": \"user\", \"content\": prompt}]\n",
    "    )\n",
    "\n",
    "    json_response = response.choices[0].message.content\n",
    "    return json_response"
   ]
  },
  {
   "cell_type": "code",
   "execution_count": 89,
   "id": "ed988c35-aef5-4b09-b9d9-c35bf202068b",
   "metadata": {},
   "outputs": [],
   "source": [
    "from tqdm.auto import tqdm"
   ]
  },
  {
   "cell_type": "code",
   "execution_count": 90,
   "id": "79dc2b2c-940d-4245-985f-37b327a36ed5",
   "metadata": {},
   "outputs": [],
   "source": [
    "results = {}"
   ]
  },
  {
   "cell_type": "code",
   "execution_count": 91,
   "id": "6e95fa5d-4ee3-4970-b8d8-a96bf670e765",
   "metadata": {},
   "outputs": [
    {
     "name": "stderr",
     "output_type": "stream",
     "text": [
      "100%|██████████████████████████████████████████████████████████████████████████████████████████████████████████████| 229/229 [08:02<00:00,  2.11s/it]\n"
     ]
    }
   ],
   "source": [
    "for doc in tqdm(documents): \n",
    "    doc_id = doc['id']\n",
    "    if doc_id in results:\n",
    "        continue\n",
    "\n",
    "    questions = generate_questions(doc)\n",
    "    results[doc_id] = questions"
   ]
  },
  {
   "cell_type": "code",
   "execution_count": 92,
   "id": "7b8a215b-110d-440f-a3b1-d6def2a1ecf6",
   "metadata": {},
   "outputs": [
    {
     "data": {
      "text/plain": [
       "228"
      ]
     },
     "execution_count": 92,
     "metadata": {},
     "output_type": "execute_result"
    }
   ],
   "source": [
    "len(results)"
   ]
  },
  {
   "cell_type": "code",
   "execution_count": 93,
   "id": "58faa59f-5dc2-47c0-b165-f0eee719b06d",
   "metadata": {},
   "outputs": [
    {
     "name": "stdout",
     "output_type": "stream",
     "text": [
      "Dictionary successfully saved.\n"
     ]
    }
   ],
   "source": [
    "with open(\"../data/ground-truth-dataset.json\", 'w') as f:\n",
    "    json.dump(results, f, indent=4)\n",
    "\n",
    "print(f\"Dictionary successfully saved.\")"
   ]
  },
  {
   "cell_type": "code",
   "execution_count": 94,
   "id": "d359cf84-aab1-4190-82e0-ab29ac6d7703",
   "metadata": {},
   "outputs": [],
   "source": [
    "import pickle"
   ]
  },
  {
   "cell_type": "code",
   "execution_count": 103,
   "id": "c1119d01-6102-450c-a3f1-1af1cc74916b",
   "metadata": {},
   "outputs": [],
   "source": [
    "with open('../data/ground-truth-dataset-clean.json', 'rt') as f_in:\n",
    "    results = json.load(f_in)"
   ]
  },
  {
   "cell_type": "code",
   "execution_count": 104,
   "id": "fd074d12-0456-42d0-90dc-81d25781cbf5",
   "metadata": {},
   "outputs": [
    {
     "data": {
      "text/plain": [
       "[\"What defines immutable infrastructure, and why can't it be changed after deployment?\",\n",
       " 'How does immutability help in identifying and mitigating security risks?',\n",
       " 'What role does automation play in enforcing immutability within an infrastructure?',\n",
       " 'How are containers an example of immutable infrastructure?',\n",
       " 'What is the relationship between immutable infrastructure and infrastructure as code?']"
      ]
     },
     "execution_count": 104,
     "metadata": {},
     "output_type": "execute_result"
    }
   ],
   "source": [
    "results['8e9db3d1']"
   ]
  },
  {
   "cell_type": "code",
   "execution_count": 105,
   "id": "a212fb98-4ae7-4cf8-b81b-cff6b851a334",
   "metadata": {},
   "outputs": [
    {
     "data": {
      "text/plain": [
       "['What is the purpose of a check that runs periodically on a container in a pod?',\n",
       " 'How does the check influence the lifecycle of a container?',\n",
       " 'Where can you find more detailed information about container probes?']"
      ]
     },
     "execution_count": 105,
     "metadata": {},
     "output_type": "execute_result"
    }
   ],
   "source": [
    "results['76d16796']"
   ]
  },
  {
   "cell_type": "code",
   "execution_count": 102,
   "id": "d624febd-94ff-4f08-a89c-cb05d400ad2a",
   "metadata": {},
   "outputs": [
    {
     "name": "stdout",
     "output_type": "stream",
     "text": [
      "✅ Cleaned questions saved to questions_clean.json\n"
     ]
    }
   ],
   "source": [
    "import json\n",
    "\n",
    "with open(\"../data/ground-truth-dataset.json\", \"r\", encoding=\"utf-8\") as f:\n",
    "    data = json.load(f)\n",
    "\n",
    "cleaned = {}\n",
    "for key, value in data.items():\n",
    "    try:\n",
    "        # Parse the stringified list into a real list\n",
    "        questions = json.loads(value)\n",
    "        # Strip whitespace/newlines from each question\n",
    "        questions = [q.strip() for q in questions]\n",
    "        cleaned[key] = questions\n",
    "    except Exception as e:\n",
    "        print(f\"Error parsing key {key}: {e}\")\n",
    "        cleaned[key] = []\n",
    "\n",
    "# Save the cleaned JSON\n",
    "with open(\"../data_gloss/ground-truth-dataset-clean.json\", \"w\", encoding=\"utf-8\") as f:\n",
    "    json.dump(cleaned, f, indent=4, ensure_ascii=False)\n",
    "\n",
    "print(\"✅ Cleaned questions saved to questions_clean.json\")\n"
   ]
  },
  {
   "cell_type": "code",
   "execution_count": 107,
   "id": "9b8eedfd-e55b-4755-9f1f-9fb042d4825f",
   "metadata": {},
   "outputs": [],
   "source": [
    "parsed_results = {}\n",
    "\n",
    "for doc_id, json_questions in results.items():\n",
    "    parsed_results[doc_id] = json_questions"
   ]
  },
  {
   "cell_type": "code",
   "execution_count": 108,
   "id": "e4585491-2540-4207-8b26-b4abd5232c85",
   "metadata": {},
   "outputs": [],
   "source": [
    "doc_index = {d['id']: d for d in documents}"
   ]
  },
  {
   "cell_type": "code",
   "execution_count": 115,
   "id": "6b12d797-df76-4400-b6d7-f84c67457779",
   "metadata": {},
   "outputs": [],
   "source": [
    "final_results = []\n",
    "\n",
    "for doc_id, questions in parsed_results.items():\n",
    "    title = doc_index[doc_id]['title']\n",
    "    for q in questions:\n",
    "        final_results.append((q, title, doc_id))"
   ]
  },
  {
   "cell_type": "code",
   "execution_count": 117,
   "id": "3b8183b1-b687-4ccc-874c-99249ce0fcfe",
   "metadata": {},
   "outputs": [],
   "source": [
    "import pandas as pd"
   ]
  },
  {
   "cell_type": "code",
   "execution_count": 118,
   "id": "c1b1c4f5-b6a7-4000-afc0-df30f5c68342",
   "metadata": {},
   "outputs": [],
   "source": [
    "df = pd.DataFrame(final_results, columns=['question', 'title', 'document'])"
   ]
  },
  {
   "cell_type": "code",
   "execution_count": 121,
   "id": "9b6ea860-1f63-4826-bc75-2d146a8db294",
   "metadata": {},
   "outputs": [],
   "source": [
    "df.to_csv('../data/ground-truth-data.csv', index=False)"
   ]
  },
  {
   "cell_type": "code",
   "execution_count": 122,
   "id": "c6ad0616-cf07-46a7-8483-4b22f6a94208",
   "metadata": {},
   "outputs": [
    {
     "name": "stdout",
     "output_type": "stream",
     "text": [
      "question,title,document\n",
      "What are labels used for in Kubernetes?,Label,b021df6a\n",
      "How are labels structured in Kubernetes?,Label,b021df6a\n",
      "What is the role of key/value pairs in labeling objects?,Label,b021df6a\n",
      "Why might users find labels meaningful and relevant?,Label,b021df6a\n",
      "Which Kubernetes objects can have labels attached to them?,Label,b021df6a\n",
      "What is the purpose of a check that runs periodically on a container in a pod?,Probe,76d16796\n",
      "How does the check influence the lifecycle of a container?,Probe,76d16796\n",
      "Where can you find more detailed information about container probes?,Probe,76d16796\n",
      "What is the primary purpose of a LimitRange in Kubernetes?,LimitRange,0ad333e2\n"
     ]
    }
   ],
   "source": [
    "!head ground-truth-data.csv"
   ]
  },
  {
   "cell_type": "code",
   "execution_count": null,
   "id": "90e3526a-da0e-49f8-b875-341946fac2e4",
   "metadata": {},
   "outputs": [],
   "source": []
  }
 ],
 "metadata": {
  "kernelspec": {
   "display_name": "Python 3 (ipykernel)",
   "language": "python",
   "name": "python3"
  },
  "language_info": {
   "codemirror_mode": {
    "name": "ipython",
    "version": 3
   },
   "file_extension": ".py",
   "mimetype": "text/x-python",
   "name": "python",
   "nbconvert_exporter": "python",
   "pygments_lexer": "ipython3",
   "version": "3.12.11"
  }
 },
 "nbformat": 4,
 "nbformat_minor": 5
}
