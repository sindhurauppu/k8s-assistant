{
 "cells": [
  {
   "cell_type": "code",
   "execution_count": 1,
   "id": "d123a404-71c4-43be-9a9c-72a148394236",
   "metadata": {},
   "outputs": [],
   "source": [
    "import pandas as pd"
   ]
  },
  {
   "cell_type": "code",
   "execution_count": 2,
   "id": "78117670-4ee1-4fd1-ab60-e6e167267c88",
   "metadata": {},
   "outputs": [],
   "source": [
    "df_ground_truth = pd.read_csv('../data_gloss/ground-truth-data.csv')"
   ]
  },
  {
   "cell_type": "code",
   "execution_count": 3,
   "id": "f3dbb4dc-9121-4ec7-b32a-c9e73653ddaa",
   "metadata": {},
   "outputs": [
    {
     "data": {
      "text/plain": [
       "{'question': 'What are labels used for in Kubernetes?',\n",
       " 'title': 'Label',\n",
       " 'document': 'b021df6a'}"
      ]
     },
     "execution_count": 3,
     "metadata": {},
     "output_type": "execute_result"
    }
   ],
   "source": [
    "ground_truth = df_ground_truth.to_dict(orient='records')\n",
    "ground_truth[0]"
   ]
  },
  {
   "cell_type": "code",
   "execution_count": 4,
   "id": "4ae6b345-32d6-4c1b-bd3e-428401b6bef7",
   "metadata": {},
   "outputs": [
    {
     "data": {
      "text/plain": [
       "{'title': 'Label',\n",
       " 'text': 'Tags objects with identifying attributes that are meaningful and relevant to users.\\n\\n<!--more--> \\n\\nLabels are key/value pairs that are attached to objects such as . They are used to organize and to select subsets of objects.',\n",
       " 'source_file': 'label.md',\n",
       " 'id': 'b021df6a'}"
      ]
     },
     "execution_count": 4,
     "metadata": {},
     "output_type": "execute_result"
    }
   ],
   "source": [
    "import json\n",
    "\n",
    "with open('../data_gloss/docs-ids.json', 'rt') as f_in:\n",
    "    documents = json.load(f_in)\n",
    "\n",
    "documents[0]"
   ]
  },
  {
   "cell_type": "code",
   "execution_count": 5,
   "id": "c9657d25-04b9-4dbe-9a03-76f8e75dc3de",
   "metadata": {},
   "outputs": [
    {
     "data": {
      "text/plain": [
       "'Tags objects with identifying attributes that are meaningful and relevant to users.\\n\\n<!--more--> \\n\\nLabels are key/value pairs that are attached to objects such as . They are used to organize and to select subsets of objects.'"
      ]
     },
     "execution_count": 5,
     "metadata": {},
     "output_type": "execute_result"
    }
   ],
   "source": [
    "doc_idx = {d['id']: d for d in documents}\n",
    "doc_idx['b021df6a']['text']"
   ]
  },
  {
   "cell_type": "markdown",
   "id": "5163f3e6-b111-42ad-9408-9b73d4a47918",
   "metadata": {},
   "source": [
    "## Indexing with Vector Search"
   ]
  },
  {
   "cell_type": "code",
   "execution_count": 117,
   "id": "90013ec7-801d-43b3-8da6-99844b6a4780",
   "metadata": {},
   "outputs": [],
   "source": [
    "from sentence_transformers import SentenceTransformer\n",
    "\n",
    "model_name = \"intfloat/multilingual-e5-large\"\n",
    "model = SentenceTransformer(model_name)"
   ]
  },
  {
   "cell_type": "code",
   "execution_count": 43,
   "id": "38f57e2f-58d4-4d42-9e8e-9344ec98bb47",
   "metadata": {},
   "outputs": [
    {
     "name": "stderr",
     "output_type": "stream",
     "text": [
      "100%|██████████████████████████████████████████████████████████████████████████████████████████████████████████████| 229/229 [01:27<00:00,  2.60it/s]\n"
     ]
    }
   ],
   "source": [
    "from tqdm.auto import tqdm\n",
    "\n",
    "vectors = []\n",
    "\n",
    "for doc in tqdm(documents):\n",
    "    title = doc['title']\n",
    "    text = doc['text']\n",
    "    vector = model.encode(title + ' ' + text)\n",
    "    vectors.append(vector)"
   ]
  },
  {
   "cell_type": "code",
   "execution_count": 8,
   "id": "7f66520a-469d-48fb-8572-fb70f07f5129",
   "metadata": {},
   "outputs": [
    {
     "data": {
      "text/plain": [
       "array([ 1.80884879e-02, -4.65294812e-03, -3.26536149e-02,  2.57255360e-02,\n",
       "        3.58658023e-02,  7.05806306e-03,  5.48124984e-02, -2.65196580e-02,\n",
       "        6.96281791e-02, -2.63482220e-02,  1.39946034e-02, -5.54139912e-02,\n",
       "       -1.30516263e-02,  3.68059892e-03,  1.25775347e-02, -4.23482098e-02,\n",
       "        3.28624621e-02,  2.57538874e-02, -7.58771077e-02,  4.20469083e-02,\n",
       "        1.55477285e-01, -1.52878882e-03, -9.91551727e-02, -1.73584614e-02,\n",
       "       -3.35005596e-02,  3.69905606e-02, -1.17775925e-01,  1.44982059e-02,\n",
       "        8.85519013e-02,  6.28353842e-03,  2.48750322e-03,  5.68468124e-02,\n",
       "        1.14091365e-02,  1.79151408e-02,  9.37679559e-02,  7.96098448e-03,\n",
       "       -8.69038999e-02, -7.10235834e-02, -2.85339579e-02,  3.81267397e-03,\n",
       "       -3.07292752e-02,  3.98034491e-02, -7.97804520e-02,  6.80798143e-02,\n",
       "       -7.41403177e-02,  1.08109424e-02, -7.12156370e-02, -3.72463949e-02,\n",
       "       -6.07325658e-02,  2.13113278e-02, -4.90776151e-02,  9.16626155e-02,\n",
       "       -1.24814035e-02, -4.99698194e-03,  2.99205370e-02, -9.46961045e-02,\n",
       "       -3.36512998e-02,  5.85703813e-02, -3.25698368e-02,  7.97618181e-02,\n",
       "       -1.12067414e-02, -5.04293628e-02, -3.94203514e-02, -5.29006943e-02,\n",
       "        5.12596779e-02,  3.81511375e-02, -9.51971859e-02,  9.46531743e-02,\n",
       "        3.13415788e-02,  5.14294542e-02, -4.03888375e-02, -4.98215575e-03,\n",
       "       -1.34575879e-02,  2.79662455e-03,  4.22800817e-02, -1.87109951e-02,\n",
       "        1.31517695e-02, -1.16203511e-02,  3.20040397e-02, -5.96213825e-02,\n",
       "       -9.64452401e-02,  3.71308699e-02,  3.97910289e-02, -3.02659888e-02,\n",
       "       -7.74222612e-02,  1.92725267e-02,  1.49573153e-02, -5.43796495e-02,\n",
       "        3.62017266e-02, -2.97070830e-03,  1.83032658e-02, -5.19406199e-02,\n",
       "        6.19656518e-02,  1.25270914e-02,  2.77267257e-03, -2.91361436e-02,\n",
       "       -5.34083880e-02, -6.13793060e-02, -1.10752322e-02,  8.94902181e-03,\n",
       "        3.05258706e-02,  1.26806255e-02,  7.81266391e-03,  6.47413060e-02,\n",
       "       -2.93234037e-03, -1.24650881e-01, -7.00868517e-02,  3.72617096e-02,\n",
       "        1.33505017e-02,  7.01785088e-02, -8.99767969e-03,  6.95333183e-02,\n",
       "        2.80008912e-02,  1.24056237e-02, -9.83725488e-02, -3.15994136e-02,\n",
       "        1.63934603e-02, -8.32560956e-02,  5.44002764e-02,  5.15961349e-02,\n",
       "       -1.21397832e-02, -2.42707171e-02, -7.42454827e-03, -2.32742988e-02,\n",
       "       -6.02685735e-02, -2.09255964e-02, -8.27759802e-02, -2.49296632e-31,\n",
       "       -8.34109858e-02, -1.08112872e-01,  2.85687875e-02,  1.94284052e-03,\n",
       "        1.59107149e-02,  2.91703665e-03, -5.90801947e-02,  1.08736753e-01,\n",
       "       -2.62915194e-02,  1.90557390e-02,  4.84901145e-02,  1.26708761e-01,\n",
       "       -6.42395392e-02,  4.81707118e-02,  1.26106620e-01, -8.12460259e-02,\n",
       "        5.63869365e-02,  1.52899414e-01,  1.02640167e-01, -8.91021639e-02,\n",
       "       -1.01299714e-02, -6.80563450e-02,  2.57407892e-02,  4.73086648e-02,\n",
       "        2.34749522e-02, -1.65175274e-02, -6.65996596e-03, -4.62665074e-02,\n",
       "        2.50420719e-02,  2.89843176e-02,  3.23298983e-02,  2.88892742e-02,\n",
       "       -6.39175856e-03, -5.09523191e-02,  5.15168533e-03,  5.30718069e-04,\n",
       "       -4.69226204e-02,  5.66782728e-02, -1.80867817e-02, -4.49649841e-02,\n",
       "       -2.04058662e-02,  6.31095469e-02,  8.44989493e-02,  6.80312980e-03,\n",
       "       -6.80873543e-02, -4.02413756e-02,  3.52449305e-02, -9.42806248e-03,\n",
       "       -6.30373210e-02,  1.85584445e-02,  3.74518670e-02, -1.15325267e-03,\n",
       "       -7.45382532e-02,  6.77930564e-02,  3.81419659e-02, -1.04867674e-01,\n",
       "       -1.86174046e-02,  6.99121412e-03, -2.62347311e-02,  3.57060730e-02,\n",
       "       -3.95775065e-02, -5.76023087e-02,  8.06553215e-02, -7.16929883e-03,\n",
       "        8.30801129e-02,  4.46025878e-02, -6.28271550e-02, -1.80866849e-02,\n",
       "        6.64465576e-02,  7.76002035e-02, -3.41700166e-02, -2.93711983e-02,\n",
       "        3.03613823e-02,  6.98369816e-02, -5.39266765e-02,  8.73193610e-03,\n",
       "        5.96792530e-03,  2.27231774e-02, -8.86527300e-02, -5.38931414e-02,\n",
       "       -9.61098745e-02,  1.06168678e-02,  4.61343341e-02, -4.91277911e-02,\n",
       "       -7.01326653e-02, -9.56042558e-02,  3.84179465e-02,  3.53798755e-02,\n",
       "       -2.56941058e-02, -2.08880398e-02,  4.39690240e-02,  2.32050382e-02,\n",
       "       -5.35153449e-02, -5.34327999e-02, -1.18497415e-02, -5.01685450e-33,\n",
       "        4.93359789e-02,  5.16178422e-02,  8.38364568e-03, -5.79804778e-02,\n",
       "        6.07953407e-02,  1.30415782e-02, -3.62129509e-02, -1.59836635e-02,\n",
       "        1.12851905e-02, -4.85954136e-02, -7.85650462e-02,  9.81442351e-03,\n",
       "        8.28599110e-02,  4.12698835e-02, -1.17806494e-01,  4.46909256e-02,\n",
       "       -9.34175402e-03, -4.52833623e-02, -2.67122909e-02,  8.23466405e-02,\n",
       "       -1.32884055e-01, -4.73255627e-02,  4.57273014e-02,  6.77245855e-02,\n",
       "        8.01222050e-04,  3.19705568e-02, -3.15512158e-02, -2.69412883e-02,\n",
       "        1.67151596e-02, -4.83765751e-02, -9.02854279e-02, -1.15139475e-02,\n",
       "       -2.84012295e-02, -7.60242622e-03,  3.52249504e-03, -1.42956465e-01,\n",
       "        3.98175418e-03,  1.20628208e-01,  5.27060940e-04,  1.41570687e-01,\n",
       "        9.73483101e-02, -4.19845283e-02, -3.62288244e-02, -1.87916942e-02,\n",
       "        1.29013686e-02, -7.19105452e-02,  2.50703897e-02, -1.32801801e-01,\n",
       "        2.13401429e-02, -6.28643110e-02,  1.63965784e-02, -7.52536356e-02,\n",
       "       -1.10408757e-02, -5.56321722e-03,  1.10676112e-02,  4.86380275e-04,\n",
       "        3.73476148e-02,  2.01073452e-03,  2.66016982e-02, -1.77328065e-02,\n",
       "        4.94512580e-02, -6.67941291e-03, -5.28092273e-02,  3.61859575e-02,\n",
       "        1.78793806e-03, -2.69647911e-02,  3.11027970e-02, -2.02892050e-02,\n",
       "        2.75238371e-03, -5.19067561e-03,  3.12250964e-02,  3.93803045e-02,\n",
       "        8.25330466e-02,  4.66824286e-02, -5.80806360e-02, -4.12845984e-02,\n",
       "        5.48683368e-02, -4.28280495e-02,  3.99976000e-02, -4.31012409e-03,\n",
       "       -4.67926823e-02,  6.43082336e-02, -2.05428563e-02,  2.68103704e-02,\n",
       "       -2.25592721e-02,  1.73889864e-02,  5.76312691e-02,  4.53268662e-02,\n",
       "       -3.28816921e-02,  3.76090072e-02, -2.81213485e-02, -6.36498630e-02,\n",
       "       -6.12039259e-03,  2.19362210e-02, -1.44409975e-02, -4.02213686e-33,\n",
       "       -2.71900035e-02, -1.00471698e-01,  6.52285963e-02,  5.43248765e-02,\n",
       "        4.28000093e-02,  9.71632171e-03,  6.22734688e-02,  5.78896180e-02,\n",
       "        1.87331960e-02,  3.95566560e-02,  7.66183287e-02,  6.38229996e-02,\n",
       "        5.52705117e-02,  9.09975823e-03, -5.58439754e-02, -2.83379927e-02,\n",
       "        3.25243361e-02,  8.00134335e-03, -2.91627720e-02,  5.81353642e-02,\n",
       "       -2.96091370e-04, -3.66848297e-02,  4.61568357e-03,  1.56020103e-02,\n",
       "        3.11119761e-03, -1.96766034e-02,  1.22989966e-02,  3.11553441e-02,\n",
       "        8.72791708e-02, -1.13334144e-02,  5.73884286e-02,  2.56719626e-02,\n",
       "       -2.56990977e-02,  6.54659513e-03, -7.41974683e-03,  4.41888757e-02,\n",
       "       -1.08826824e-01,  3.51845995e-02, -5.78038506e-02,  4.51058634e-02,\n",
       "       -4.01609056e-02, -6.35409057e-02, -1.90829784e-02,  6.76523289e-03,\n",
       "        2.23046150e-02,  6.23095408e-02, -6.06164970e-02,  4.80135530e-02,\n",
       "        1.10935606e-03,  2.77169328e-03, -2.52210218e-02,  1.88256130e-02,\n",
       "        3.54667827e-02,  4.46944758e-02, -5.16738184e-02,  4.25178744e-02,\n",
       "       -5.65487612e-03, -1.52307386e-02, -1.15760099e-02, -1.99241843e-02,\n",
       "       -2.70030070e-02, -1.38005735e-02, -2.65781246e-02,  1.56847725e-03],\n",
       "      dtype=float32)"
      ]
     },
     "execution_count": 8,
     "metadata": {},
     "output_type": "execute_result"
    }
   ],
   "source": [
    "vectors[2]"
   ]
  },
  {
   "cell_type": "code",
   "execution_count": 44,
   "id": "e2d70605-9dc5-468a-9690-7c7dd3010dd9",
   "metadata": {},
   "outputs": [],
   "source": [
    "import numpy as np\n",
    "\n",
    "vectors = np.array(vectors)"
   ]
  },
  {
   "cell_type": "code",
   "execution_count": 45,
   "id": "13d24653-d7ba-41a6-bc35-b6d4558c57fa",
   "metadata": {},
   "outputs": [],
   "source": [
    "import faiss\n",
    "\n",
    "# build FAISS index\n",
    "dimension = vectors.shape[1]   # length of your embedding vector\n",
    "index = faiss.IndexFlatL2(dimension)  # L2 distance (or IndexFlatIP for cosine similarity)\n",
    "index.add(np.array(vectors).astype(\"float32\"))\n",
    "\n",
    "# keep metadata mapping\n",
    "documents_map = np.array(documents)\n",
    "\n",
    "def faiss_vector_search(vector, num_results=5):\n",
    "    vector = np.array(vector).astype(\"float32\").reshape(1, -1)\n",
    "    distances, indices = index.search(vector, num_results)\n",
    "\n",
    "    # filter by course\n",
    "    results = []\n",
    "    for i, idx in enumerate(indices[0]):\n",
    "        results.append({\n",
    "            \"document\": documents_map[idx],\n",
    "            \"distance\": float(distances[0][i])\n",
    "        })\n",
    "    return results"
   ]
  },
  {
   "cell_type": "code",
   "execution_count": 46,
   "id": "2fb6d397-47d3-46e9-9834-30268f712626",
   "metadata": {},
   "outputs": [],
   "source": [
    "def question_text_vector(q):\n",
    "    question = q[\"question\"]\n",
    "\n",
    "    v_q = model.encode(question)\n",
    "    return faiss_vector_search(v_q)"
   ]
  },
  {
   "cell_type": "code",
   "execution_count": 50,
   "id": "46ab1588-3521-48da-a7f7-88ca9579cb14",
   "metadata": {},
   "outputs": [
    {
     "data": {
      "text/plain": [
       "[{'document': {'title': 'kubectl top pod',\n",
       "   'text': \"Display resource (CPU/memory) usage of pods.\\n\\n The 'top pod' command allows you to see the resource consumption of pods.\\n\\n Due to the metrics pipeline delay, they may be unavailable for a few minutes since pod creation.\\n\\n```\\nkubectl top pod [NAME | -l label]\\n```\\n\\n```\\n  # Show metrics for all pods in the default namespace\\n  kubectl top pod\\n  \\n  # Show metrics for all pods in the given namespace\\n  kubectl top pod --namespace=NAMESPACE\\n  \\n  # Show metrics for a given pod and its containers\\n  kubectl top pod POD_NAME --containers\\n  \\n  # Show metrics for the pods defined by label name=myLabel\\n  kubectl top pod -l name=myLabel\\n```\",\n",
       "   'source_file': 'kubectl_top_pod.md',\n",
       "   'id': '24d99e73'},\n",
       "  'distance': 0.33841532468795776},\n",
       " {'document': {'title': 'PodTemplate',\n",
       "   'text': \"An API object that defines a template for creating .\\nThe PodTemplate API is also embedded in API definitions for workload management, such as \\n or\\n.\\n\\n<!--more--> \\n\\nPod templates allow you to define common metadata (such as labels, or a template for the name of a\\nnew Pod) as well as to specify a pod's desired state.\\n[Workload management](/docs/concepts/workloads/controllers/) controllers use Pod templates\\n(embedded into another object, such as a Deployment or StatefulSet)\\nto define and manage one or more .\\nWhen there can be multiple Pods based on the same template, these are called\\n.\\nAlthough you can create a PodTemplate object directly, you rarely need to do so.\",\n",
       "   'source_file': 'pod-template.md',\n",
       "   'id': '3f4dbf8b'},\n",
       "  'distance': 0.3459111452102661},\n",
       " {'document': {'title': 'kubectl label',\n",
       "   'text': 'Update the labels on a resource.\\n\\n  *  A label key and value must begin with a letter or number, and may contain letters, numbers, hyphens, dots, and underscores, up to 63 characters each.\\n  *  Optionally, the key can begin with a DNS subdomain prefix and a single \\'/\\', like example.com/my-app.\\n  *  If --overwrite is true, then existing labels can be overwritten, otherwise attempting to overwrite a label will result in an error.\\n  *  If --resource-version is specified, then updates will use this resource version, otherwise the existing resource-version will be used.\\n\\n```\\nkubectl label [--overwrite] (-f FILENAME | TYPE NAME) KEY_1=VAL_1 ... KEY_N=VAL_N [--resource-version=version]\\n```\\n\\n```\\n  # Update pod \\'foo\\' with the label \\'unhealthy\\' and the value \\'true\\'\\n  kubectl label pods foo unhealthy=true\\n  \\n  # Update pod \\'foo\\' with the label \\'status\\' and the value \\'unhealthy\\', overwriting any existing value\\n  kubectl label --overwrite pods foo status=unhealthy\\n  \\n  # Update all pods in the namespace\\n  kubectl label pods --all status=unhealthy\\n  \\n  # Update a pod identified by the type and name in \"pod.json\"\\n  kubectl label -f pod.json status=unhealthy\\n  \\n  # Update pod \\'foo\\' only if the resource is unchanged from version 1\\n  kubectl label pods foo status=unhealthy --resource-version=1\\n  \\n  # Update pod \\'foo\\' by removing a label named \\'bar\\' if it exists\\n  # Does not require the --overwrite flag\\n  kubectl label pods foo bar-\\n```',\n",
       "   'source_file': '_index.md',\n",
       "   'id': '53dea42b'},\n",
       "  'distance': 0.36168867349624634},\n",
       " {'document': {'title': 'kubectl create poddisruptionbudget',\n",
       "   'text': 'Create a pod disruption budget with the specified name, selector, and desired minimum available pods.\\n\\n```\\nkubectl create poddisruptionbudget NAME --selector=SELECTOR --min-available=N [--dry-run=server|client|none]\\n```\\n\\n```\\n  # Create a pod disruption budget named my-pdb that will select all pods with the app=rails label\\n  # and require at least one of them being available at any point in time\\n  kubectl create poddisruptionbudget my-pdb --selector=app=rails --min-available=1\\n  \\n  # Create a pod disruption budget named my-pdb that will select all pods with the app=nginx label\\n  # and require at least half of the pods selected to be available at any point in time\\n  kubectl create pdb my-pdb --selector=app=nginx --min-available=50%\\n```',\n",
       "   'source_file': 'kubectl_create_poddisruptionbudget.md',\n",
       "   'id': '29a13236'},\n",
       "  'distance': 0.3648635149002075},\n",
       " {'document': {'title': 'Affinity',\n",
       "   'text': 'In Kubernetes, _affinity_ is a set of rules that give hints to the scheduler about where to place pods.\\n\\n<!--more-->\\nThere are two kinds of affinity:\\n* [node affinity](/docs/concepts/scheduling-eviction/assign-pod-node/#node-affinity)\\n* [pod-to-pod affinity](/docs/concepts/scheduling-eviction/assign-pod-node/#inter-pod-affinity-and-anti-affinity)\\n\\nThe rules are defined using the Kubernetes ,\\nand  specified in , \\nand they can be either required or preferred, depending on how strictly you want the scheduler to enforce them.',\n",
       "   'source_file': 'affinity.md',\n",
       "   'id': 'ef5508a7'},\n",
       "  'distance': 0.36531272530555725}]"
      ]
     },
     "execution_count": 50,
     "metadata": {},
     "output_type": "execute_result"
    }
   ],
   "source": [
    "question_text_vector(dict(\n",
    "    question='How can I label the pods?'\n",
    "))"
   ]
  },
  {
   "cell_type": "code",
   "execution_count": 67,
   "id": "96aa6f7f-a48a-4cb3-8f0c-832f10e76a1d",
   "metadata": {},
   "outputs": [],
   "source": [
    "def build_prompt(query, search_results):\n",
    "    prompt_template = \"\"\"\n",
    "You are a Kubernetes assistant. Use ONLY the information in the \"context\" to answer the user's question.\n",
    "\n",
    "REQUIREMENTS:\n",
    "- Output ONLY raw Markdown text (no surrounding quotes, no JSON, no markdown in a string).\n",
    "- Use literal line breaks for paragraphs and fenced code blocks for commands (```bash ... ```).\n",
    "- Do NOT include backslash-n sequences (\"\\n\") to indicate newlines — use real newlines.\n",
    "- Do not escape code blocks or wrap them in a string.\n",
    "- Return the answer only (no meta commentary).\n",
    "\n",
    "Example of desired output:\n",
    "To apply a YAML file in Kubernetes, use the following command:\n",
    "\n",
    "```bash\n",
    "kubectl apply -f FILENAME.yaml\n",
    "\n",
    "Context:\n",
    "{context}\n",
    "\n",
    "User's Question:\n",
    "{question}\n",
    "\n",
    "Answer:\n",
    "\"\"\".strip()\n",
    "\n",
    "    context = \"\"\n",
    "    \n",
    "    for doc in search_results:\n",
    "        context = context + f\"title: {doc['document']['title']}\\nanswer: {doc['document']['text']}\\n\\n\"\n",
    "    \n",
    "    prompt = prompt_template.format(question=query, context=context).strip()\n",
    "    return prompt"
   ]
  },
  {
   "cell_type": "code",
   "execution_count": 68,
   "id": "7dfe4a59-1b52-48e4-a5e1-b4951205c12b",
   "metadata": {},
   "outputs": [],
   "source": [
    "from openai import OpenAI"
   ]
  },
  {
   "cell_type": "code",
   "execution_count": 69,
   "id": "b12d863c-fd9d-4b5c-9b1a-b902212ca53f",
   "metadata": {},
   "outputs": [],
   "source": [
    "client = OpenAI()"
   ]
  },
  {
   "cell_type": "code",
   "execution_count": 74,
   "id": "e40fd8e3-4417-4fe4-b6fc-300622518d66",
   "metadata": {},
   "outputs": [],
   "source": [
    "def llm(prompt, model='gpt-4o'):\n",
    "    response = client.chat.completions.create(\n",
    "        model='gpt-4o',\n",
    "        messages=[{\"role\": \"user\", \"content\": prompt}]\n",
    "    )\n",
    "    \n",
    "    return response.choices[0].message.content"
   ]
  },
  {
   "cell_type": "code",
   "execution_count": 75,
   "id": "c8906d56-6d96-4547-84bc-cf9e1b769800",
   "metadata": {},
   "outputs": [],
   "source": [
    "# previously: rag(query: str) -> str\n",
    "def rag(query: dict, model='gpt-4o') -> str:\n",
    "    search_results = question_text_vector(query)\n",
    "    \n",
    "    prompt = build_prompt(query['question'], search_results)\n",
    "    answer = llm(prompt, model=model)\n",
    "    return answer"
   ]
  },
  {
   "cell_type": "code",
   "execution_count": 76,
   "id": "e4b18793-1b3e-4059-8f9c-c6430d764eaf",
   "metadata": {},
   "outputs": [
    {
     "data": {
      "text/plain": [
       "{'question': 'In what ways can a LimitRange restrict resources for containers or Pods?',\n",
       " 'title': 'LimitRange',\n",
       " 'document': '0ad333e2'}"
      ]
     },
     "execution_count": 76,
     "metadata": {},
     "output_type": "execute_result"
    }
   ],
   "source": [
    "ground_truth[1]"
   ]
  },
  {
   "cell_type": "code",
   "execution_count": 77,
   "id": "848f11a3-806c-4595-8452-33bf3a218a2f",
   "metadata": {},
   "outputs": [
    {
     "data": {
      "text/plain": [
       "'A LimitRange either limits the quantity of resources that can be created for a particular resource type, or the amount of resources that may be requested/consumed by individual containers or Pods within a namespace.'"
      ]
     },
     "execution_count": 77,
     "metadata": {},
     "output_type": "execute_result"
    }
   ],
   "source": [
    "rag(ground_truth[10])"
   ]
  },
  {
   "cell_type": "code",
   "execution_count": 78,
   "id": "11d768a5-a064-45dc-8a41-11281d1c00fc",
   "metadata": {},
   "outputs": [
    {
     "data": {
      "text/plain": [
       "'Constraints resource consumption per  or ,\\nspecified for a particular .\\n\\n<!--more--> \\n\\nA [LimitRange](/docs/concepts/policy/limit-range/) either limits the quantity of \\nthat can be created (for a particular resource type),\\nor the amount of \\nthat may be requested/consumed by individual containers or Pods within a namespace.'"
      ]
     },
     "execution_count": 78,
     "metadata": {},
     "output_type": "execute_result"
    }
   ],
   "source": [
    "doc_idx['0ad333e2']['text']"
   ]
  },
  {
   "cell_type": "markdown",
   "id": "5b1f2bd0-40b2-442b-ae49-ea0475f80252",
   "metadata": {},
   "source": [
    "## Cosine similarity metric"
   ]
  },
  {
   "cell_type": "code",
   "execution_count": 79,
   "id": "3fa2c596-5459-44ab-a9f6-bced502fe30f",
   "metadata": {},
   "outputs": [
    {
     "data": {
      "text/plain": [
       "0.9561522"
      ]
     },
     "execution_count": 79,
     "metadata": {},
     "output_type": "execute_result"
    }
   ],
   "source": [
    "answer_orig = 'Constraints resource consumption per  or ,\\nspecified for a particular .\\n\\n<!--more--> \\n\\nA [LimitRange](/docs/concepts/policy/limit-range/) either limits the quantity of \\nthat can be created (for a particular resource type),\\nor the amount of \\nthat may be requested/consumed by individual containers or Pods within a namespace.'\n",
    "answer_llm = 'A LimitRange either limits the quantity of resources that can be created for a particular resource type, or the amount of resources that may be requested/consumed by individual containers or Pods within a namespace.'\n",
    "\n",
    "v_llm = model.encode(answer_llm)\n",
    "v_orig = model.encode(answer_orig)\n",
    "\n",
    "v_llm.dot(v_orig)"
   ]
  },
  {
   "cell_type": "code",
   "execution_count": 80,
   "id": "67c3b811-c383-4477-83a0-8a1dc05597a2",
   "metadata": {},
   "outputs": [
    {
     "data": {
      "text/plain": [
       "{'question': 'What are labels used for in Kubernetes?',\n",
       " 'title': 'Label',\n",
       " 'document': 'b021df6a'}"
      ]
     },
     "execution_count": 80,
     "metadata": {},
     "output_type": "execute_result"
    }
   ],
   "source": [
    "ground_truth[0]"
   ]
  },
  {
   "cell_type": "code",
   "execution_count": 83,
   "id": "a3be5f2d-c974-4fbe-bdd8-15712403ab81",
   "metadata": {},
   "outputs": [
    {
     "data": {
      "text/plain": [
       "944"
      ]
     },
     "execution_count": 83,
     "metadata": {},
     "output_type": "execute_result"
    }
   ],
   "source": [
    "len(ground_truth)"
   ]
  },
  {
   "cell_type": "code",
   "execution_count": 84,
   "id": "481fa66d-4763-4ee9-b29d-002d50d33923",
   "metadata": {},
   "outputs": [],
   "source": [
    "answers = {}"
   ]
  },
  {
   "cell_type": "code",
   "execution_count": 88,
   "id": "c1985c25-2eba-4c6d-9ec1-7d8218954465",
   "metadata": {},
   "outputs": [
    {
     "name": "stderr",
     "output_type": "stream",
     "text": [
      "100%|██████████████████████████████████████████████████████████████████████████████████████████████████████████████| 944/944 [00:15<00:00, 61.87it/s]\n"
     ]
    }
   ],
   "source": [
    "for i, rec in enumerate(tqdm(ground_truth)):\n",
    "    if i in answers:\n",
    "        continue\n",
    "\n",
    "    answer_llm = rag(rec)\n",
    "    doc_id = rec['document']\n",
    "    original_doc = doc_idx[doc_id]\n",
    "    answer_orig = original_doc['text']\n",
    "\n",
    "    answers[i] = {\n",
    "        'answer_llm': answer_llm,\n",
    "        'answer_orig': answer_orig,\n",
    "        'document': doc_id,\n",
    "        'question': rec['question'],\n",
    "        'title': rec['title'],\n",
    "    }"
   ]
  },
  {
   "cell_type": "code",
   "execution_count": 89,
   "id": "ef211361-51b5-4617-bca9-632f51864586",
   "metadata": {},
   "outputs": [
    {
     "data": {
      "text/plain": [
       "944"
      ]
     },
     "execution_count": 89,
     "metadata": {},
     "output_type": "execute_result"
    }
   ],
   "source": [
    "len(answers)"
   ]
  },
  {
   "cell_type": "code",
   "execution_count": 90,
   "id": "a4ace4d4-1f8d-4847-9b9f-cf9cf81841a3",
   "metadata": {},
   "outputs": [],
   "source": [
    "results_gpt4o = [None] * len(ground_truth)\n",
    "\n",
    "for i, val in answers.items():\n",
    "    results_gpt4o[i] = val.copy()\n",
    "    results_gpt4o[i].update(ground_truth[i])"
   ]
  },
  {
   "cell_type": "code",
   "execution_count": 91,
   "id": "f81bf03c-1b33-423a-9f71-4ce05f694843",
   "metadata": {},
   "outputs": [],
   "source": [
    "import pandas as pd"
   ]
  },
  {
   "cell_type": "code",
   "execution_count": 92,
   "id": "3c5b2c21-de08-4b3c-9394-76e774635c24",
   "metadata": {},
   "outputs": [],
   "source": [
    "df_gpt4o = pd.DataFrame(results_gpt4o)"
   ]
  },
  {
   "cell_type": "code",
   "execution_count": 135,
   "id": "9fb944fa-bd39-44d8-8dd5-0faa85646e6d",
   "metadata": {},
   "outputs": [
    {
     "data": {
      "text/html": [
       "<div>\n",
       "<style scoped>\n",
       "    .dataframe tbody tr th:only-of-type {\n",
       "        vertical-align: middle;\n",
       "    }\n",
       "\n",
       "    .dataframe tbody tr th {\n",
       "        vertical-align: top;\n",
       "    }\n",
       "\n",
       "    .dataframe thead th {\n",
       "        text-align: right;\n",
       "    }\n",
       "</style>\n",
       "<table border=\"1\" class=\"dataframe\">\n",
       "  <thead>\n",
       "    <tr style=\"text-align: right;\">\n",
       "      <th></th>\n",
       "      <th>answer_llm</th>\n",
       "      <th>answer_orig</th>\n",
       "      <th>document</th>\n",
       "      <th>question</th>\n",
       "      <th>title</th>\n",
       "    </tr>\n",
       "  </thead>\n",
       "  <tbody>\n",
       "    <tr>\n",
       "      <th>0</th>\n",
       "      <td>Labels in Kubernetes are used to tag objects w...</td>\n",
       "      <td>Tags objects with identifying attributes that ...</td>\n",
       "      <td>b021df6a</td>\n",
       "      <td>What are labels used for in Kubernetes?</td>\n",
       "      <td>Label</td>\n",
       "    </tr>\n",
       "    <tr>\n",
       "      <th>1</th>\n",
       "      <td>A label key and value in Kubernetes must begin...</td>\n",
       "      <td>Tags objects with identifying attributes that ...</td>\n",
       "      <td>b021df6a</td>\n",
       "      <td>How are labels structured in Kubernetes?</td>\n",
       "      <td>Label</td>\n",
       "    </tr>\n",
       "    <tr>\n",
       "      <th>2</th>\n",
       "      <td>Labels are key/value pairs that are attached t...</td>\n",
       "      <td>Tags objects with identifying attributes that ...</td>\n",
       "      <td>b021df6a</td>\n",
       "      <td>What is the role of key/value pairs in labelin...</td>\n",
       "      <td>Label</td>\n",
       "    </tr>\n",
       "    <tr>\n",
       "      <th>3</th>\n",
       "      <td>Labels are meaningful and relevant to users be...</td>\n",
       "      <td>Tags objects with identifying attributes that ...</td>\n",
       "      <td>b021df6a</td>\n",
       "      <td>Why might users find labels meaningful and rel...</td>\n",
       "      <td>Label</td>\n",
       "    </tr>\n",
       "    <tr>\n",
       "      <th>4</th>\n",
       "      <td>In Kubernetes, labels can be attached to a var...</td>\n",
       "      <td>Tags objects with identifying attributes that ...</td>\n",
       "      <td>b021df6a</td>\n",
       "      <td>Which Kubernetes objects can have labels attac...</td>\n",
       "      <td>Label</td>\n",
       "    </tr>\n",
       "    <tr>\n",
       "      <th>...</th>\n",
       "      <td>...</td>\n",
       "      <td>...</td>\n",
       "      <td>...</td>\n",
       "      <td>...</td>\n",
       "      <td>...</td>\n",
       "    </tr>\n",
       "    <tr>\n",
       "      <th>939</th>\n",
       "      <td>JSON and YAML formats are accepted.</td>\n",
       "      <td>Apply a configuration to a resource by file na...</td>\n",
       "      <td>8666ad26</td>\n",
       "      <td>What are the file formats accepted for applyin...</td>\n",
       "      <td>kubectl apply</td>\n",
       "    </tr>\n",
       "    <tr>\n",
       "      <th>940</th>\n",
       "      <td>Before using the 'apply' command, ensure that ...</td>\n",
       "      <td>Apply a configuration to a resource by file na...</td>\n",
       "      <td>8666ad26</td>\n",
       "      <td>What should you do before using the 'apply' co...</td>\n",
       "      <td>kubectl apply</td>\n",
       "    </tr>\n",
       "    <tr>\n",
       "      <th>941</th>\n",
       "      <td>To apply a configuration stored in a specific ...</td>\n",
       "      <td>Apply a configuration to a resource by file na...</td>\n",
       "      <td>8666ad26</td>\n",
       "      <td>How can you apply a configuration stored in a ...</td>\n",
       "      <td>kubectl apply</td>\n",
       "    </tr>\n",
       "    <tr>\n",
       "      <th>942</th>\n",
       "      <td>The purpose of the --prune flag when applying ...</td>\n",
       "      <td>Apply a configuration to a resource by file na...</td>\n",
       "      <td>8666ad26</td>\n",
       "      <td>What is the purpose of the --prune flag when a...</td>\n",
       "      <td>kubectl apply</td>\n",
       "    </tr>\n",
       "    <tr>\n",
       "      <th>943</th>\n",
       "      <td>To apply a configuration in Kubernetes that ma...</td>\n",
       "      <td>Apply a configuration to a resource by file na...</td>\n",
       "      <td>8666ad26</td>\n",
       "      <td>How can you apply a configuration that matches...</td>\n",
       "      <td>kubectl apply</td>\n",
       "    </tr>\n",
       "  </tbody>\n",
       "</table>\n",
       "<p>944 rows × 5 columns</p>\n",
       "</div>"
      ],
      "text/plain": [
       "                                            answer_llm  \\\n",
       "0    Labels in Kubernetes are used to tag objects w...   \n",
       "1    A label key and value in Kubernetes must begin...   \n",
       "2    Labels are key/value pairs that are attached t...   \n",
       "3    Labels are meaningful and relevant to users be...   \n",
       "4    In Kubernetes, labels can be attached to a var...   \n",
       "..                                                 ...   \n",
       "939                JSON and YAML formats are accepted.   \n",
       "940  Before using the 'apply' command, ensure that ...   \n",
       "941  To apply a configuration stored in a specific ...   \n",
       "942  The purpose of the --prune flag when applying ...   \n",
       "943  To apply a configuration in Kubernetes that ma...   \n",
       "\n",
       "                                           answer_orig  document  \\\n",
       "0    Tags objects with identifying attributes that ...  b021df6a   \n",
       "1    Tags objects with identifying attributes that ...  b021df6a   \n",
       "2    Tags objects with identifying attributes that ...  b021df6a   \n",
       "3    Tags objects with identifying attributes that ...  b021df6a   \n",
       "4    Tags objects with identifying attributes that ...  b021df6a   \n",
       "..                                                 ...       ...   \n",
       "939  Apply a configuration to a resource by file na...  8666ad26   \n",
       "940  Apply a configuration to a resource by file na...  8666ad26   \n",
       "941  Apply a configuration to a resource by file na...  8666ad26   \n",
       "942  Apply a configuration to a resource by file na...  8666ad26   \n",
       "943  Apply a configuration to a resource by file na...  8666ad26   \n",
       "\n",
       "                                              question          title  \n",
       "0              What are labels used for in Kubernetes?          Label  \n",
       "1             How are labels structured in Kubernetes?          Label  \n",
       "2    What is the role of key/value pairs in labelin...          Label  \n",
       "3    Why might users find labels meaningful and rel...          Label  \n",
       "4    Which Kubernetes objects can have labels attac...          Label  \n",
       "..                                                 ...            ...  \n",
       "939  What are the file formats accepted for applyin...  kubectl apply  \n",
       "940  What should you do before using the 'apply' co...  kubectl apply  \n",
       "941  How can you apply a configuration stored in a ...  kubectl apply  \n",
       "942  What is the purpose of the --prune flag when a...  kubectl apply  \n",
       "943  How can you apply a configuration that matches...  kubectl apply  \n",
       "\n",
       "[944 rows x 5 columns]"
      ]
     },
     "execution_count": 135,
     "metadata": {},
     "output_type": "execute_result"
    }
   ],
   "source": [
    "df_gpt4o"
   ]
  },
  {
   "cell_type": "code",
   "execution_count": 93,
   "id": "d8bc7671-baf5-4c17-98ec-224677710dea",
   "metadata": {},
   "outputs": [],
   "source": [
    "df_gpt4o.to_csv('../data_gloss/results-gpt4o.csv', index=False)"
   ]
  },
  {
   "cell_type": "markdown",
   "id": "d667929b-921b-4f4c-bbaf-19d94e0c2c5d",
   "metadata": {},
   "source": [
    "## Evaluating GPT 3.5"
   ]
  },
  {
   "cell_type": "code",
   "execution_count": 94,
   "id": "4a9f7393-ff54-4bd5-adc4-d84899158852",
   "metadata": {},
   "outputs": [
    {
     "data": {
      "text/plain": [
       "'A LimitRange can restrict resources for containers or Pods by either limiting the quantity of resources that can be created (for a particular resource type), or by limiting the amount of resources that may be requested or consumed by individual containers or Pods within a namespace.'"
      ]
     },
     "execution_count": 94,
     "metadata": {},
     "output_type": "execute_result"
    }
   ],
   "source": [
    "rag(ground_truth[10], model='gpt-3.5-turbo')"
   ]
  },
  {
   "cell_type": "code",
   "execution_count": 95,
   "id": "b900689f-209e-473c-83c4-6b4031c02c14",
   "metadata": {},
   "outputs": [],
   "source": [
    "from tqdm.auto import tqdm\n",
    "\n",
    "from concurrent.futures import ThreadPoolExecutor\n",
    "\n",
    "pool = ThreadPoolExecutor(max_workers=6)\n",
    "\n",
    "def map_progress(pool, seq, f):\n",
    "    results = []\n",
    "\n",
    "    with tqdm(total=len(seq)) as progress:\n",
    "        futures = []\n",
    "\n",
    "        for el in seq:\n",
    "            future = pool.submit(f, el)\n",
    "            future.add_done_callback(lambda p: progress.update())\n",
    "            futures.append(future)\n",
    "\n",
    "        for future in futures:\n",
    "            result = future.result()\n",
    "            results.append(result)\n",
    "\n",
    "    return results"
   ]
  },
  {
   "cell_type": "code",
   "execution_count": 100,
   "id": "9dabcc18-ab65-4ae1-be3f-a98af6230f06",
   "metadata": {},
   "outputs": [],
   "source": [
    "def process_record(rec):\n",
    "    model = 'gpt-3.5-turbo'\n",
    "    answer_llm = rag(rec, model=model)\n",
    "    \n",
    "    doc_id = rec['document']\n",
    "    original_doc = doc_idx[doc_id]\n",
    "    answer_orig = original_doc['text']\n",
    "\n",
    "    return {\n",
    "        'answer_llm': answer_llm,\n",
    "        'answer_orig': answer_orig,\n",
    "        'document': doc_id,\n",
    "        'question': rec['question'],\n",
    "        'title': rec['title'],\n",
    "    }"
   ]
  },
  {
   "cell_type": "code",
   "execution_count": 102,
   "id": "8bcd9281-f1c2-4b5a-8b82-647649e91fc2",
   "metadata": {},
   "outputs": [
    {
     "data": {
      "text/plain": [
       "{'answer_llm': 'A LimitRange can restrict resources for containers or Pods by:\\n\\n- Limiting the quantity of that can be created for a particular resource type.\\n- Restricting the amount of resources that may be requested or consumed by individual containers or Pods within a namespace.',\n",
       " 'answer_orig': 'Constraints resource consumption per  or ,\\nspecified for a particular .\\n\\n<!--more--> \\n\\nA [LimitRange](/docs/concepts/policy/limit-range/) either limits the quantity of \\nthat can be created (for a particular resource type),\\nor the amount of \\nthat may be requested/consumed by individual containers or Pods within a namespace.',\n",
       " 'document': '0ad333e2',\n",
       " 'question': 'In what ways can a LimitRange restrict resources for containers or Pods?',\n",
       " 'title': 'LimitRange'}"
      ]
     },
     "execution_count": 102,
     "metadata": {},
     "output_type": "execute_result"
    }
   ],
   "source": [
    "process_record(ground_truth[10])"
   ]
  },
  {
   "cell_type": "code",
   "execution_count": 109,
   "id": "64ec58ef-9396-4d5e-979e-f4083cb84d51",
   "metadata": {},
   "outputs": [],
   "source": [
    "answers_gpt35 = {}"
   ]
  },
  {
   "cell_type": "code",
   "execution_count": 120,
   "id": "8dbfe7e6-0b6d-4827-99e7-8852800739d8",
   "metadata": {
    "collapsed": true,
    "jupyter": {
     "outputs_hidden": true
    }
   },
   "outputs": [
    {
     "name": "stderr",
     "output_type": "stream",
     "text": [
      "  0%|                                                                                                                        | 0/944 [00:00<?, ?it/s]"
     ]
    },
    {
     "name": "stdout",
     "output_type": "stream",
     "text": [
      "0\n",
      "1\n",
      "2\n",
      "3\n",
      "4\n",
      "5\n",
      "6\n",
      "7\n",
      "8\n",
      "9\n",
      "10\n",
      "11\n",
      "12\n",
      "13\n",
      "14\n",
      "15\n",
      "16\n",
      "17\n",
      "18\n",
      "19\n",
      "20\n",
      "21\n",
      "22\n",
      "23\n",
      "24\n",
      "25\n",
      "26\n",
      "27\n",
      "28\n",
      "29\n",
      "30\n",
      "31\n",
      "32\n",
      "33\n",
      "34\n",
      "35\n",
      "36\n",
      "37\n",
      "38\n",
      "39\n",
      "40\n",
      "41\n",
      "42\n",
      "43\n",
      "44\n",
      "45\n",
      "46\n",
      "47\n",
      "48\n",
      "49\n",
      "50\n",
      "51\n",
      "52\n",
      "53\n",
      "54\n",
      "55\n",
      "56\n",
      "57\n",
      "58\n",
      "59\n",
      "60\n",
      "61\n",
      "62\n",
      "63\n",
      "64\n",
      "65\n",
      "66\n",
      "67\n",
      "68\n",
      "69\n",
      "70\n",
      "71\n",
      "72\n",
      "73\n",
      "74\n",
      "75\n",
      "76\n",
      "77\n",
      "78\n",
      "79\n",
      "80\n",
      "81\n",
      "82\n",
      "83\n",
      "84\n",
      "85\n",
      "86\n",
      "87\n",
      "88\n",
      "89\n",
      "90\n",
      "91\n",
      "92\n",
      "93\n",
      "94\n",
      "95\n",
      "96\n",
      "97\n",
      "98\n",
      "99\n",
      "100\n",
      "101\n",
      "102\n",
      "103\n",
      "104\n",
      "105\n",
      "106\n",
      "107\n",
      "108\n",
      "109\n",
      "110\n",
      "111\n",
      "112\n",
      "113\n",
      "114\n",
      "115\n",
      "116\n",
      "117\n",
      "118\n",
      "119\n",
      "120\n",
      "121\n",
      "122\n",
      "123\n",
      "124\n",
      "125\n",
      "126\n",
      "127\n",
      "128\n",
      "129\n",
      "130\n",
      "131\n",
      "132\n",
      "133\n",
      "134\n",
      "135\n",
      "136\n",
      "137\n",
      "138\n",
      "139\n",
      "140\n",
      "141\n",
      "142\n",
      "143\n",
      "144\n",
      "145\n",
      "146\n",
      "147\n",
      "148\n",
      "149\n",
      "150\n",
      "151\n",
      "152\n",
      "153\n",
      "154\n",
      "155\n",
      "156\n",
      "157\n",
      "158\n",
      "159\n",
      "160\n",
      "161\n",
      "162\n",
      "163\n",
      "164\n",
      "165\n",
      "166\n",
      "167\n",
      "168\n",
      "169\n",
      "170\n",
      "171\n",
      "172\n",
      "173\n",
      "174\n",
      "175\n",
      "176\n",
      "177\n",
      "178\n",
      "179\n",
      "180\n",
      "181\n",
      "182\n",
      "183\n",
      "184\n",
      "185\n",
      "186\n",
      "187\n",
      "188\n",
      "189\n",
      "190\n",
      "191\n",
      "192\n",
      "193\n",
      "194\n",
      "195\n",
      "196\n",
      "197\n",
      "198\n",
      "199\n",
      "200\n",
      "201\n",
      "202\n",
      "203\n",
      "204\n",
      "205\n",
      "206\n",
      "207\n",
      "208\n",
      "209\n",
      "210\n",
      "211\n",
      "212\n",
      "213\n",
      "214\n",
      "215\n",
      "216\n",
      "217\n",
      "218\n",
      "219\n",
      "220\n",
      "221\n",
      "222\n",
      "223\n",
      "224\n",
      "225\n",
      "226\n",
      "227\n",
      "228\n",
      "229\n",
      "230\n",
      "231\n",
      "232\n",
      "233\n",
      "234\n",
      "235\n",
      "236\n",
      "237\n",
      "238\n",
      "239\n",
      "240\n",
      "241\n",
      "242\n",
      "243\n",
      "244\n",
      "245\n",
      "246\n",
      "247\n",
      "248\n",
      "249\n",
      "250\n",
      "251\n",
      "252\n",
      "253\n",
      "254\n",
      "255\n",
      "256\n",
      "257\n",
      "258\n",
      "259\n",
      "260\n",
      "261\n",
      "262\n",
      "263\n",
      "264\n",
      "265\n",
      "266\n",
      "267\n",
      "268\n",
      "269\n",
      "270\n",
      "271\n",
      "272\n",
      "273\n",
      "274\n",
      "275\n",
      "276\n",
      "277\n",
      "278\n",
      "279\n",
      "280\n",
      "281\n",
      "282\n",
      "283\n",
      "284\n",
      "285\n",
      "286\n",
      "287\n",
      "288\n",
      "289\n",
      "290\n",
      "291\n",
      "292\n",
      "293\n",
      "294\n",
      "295\n",
      "296\n",
      "297\n",
      "298\n",
      "299\n",
      "300\n",
      "301\n",
      "302\n",
      "303\n",
      "304\n",
      "305\n",
      "306\n",
      "307\n",
      "308\n",
      "309\n",
      "310\n",
      "311\n",
      "312\n",
      "313\n",
      "314\n",
      "315\n",
      "316\n",
      "317\n",
      "318\n",
      "319\n",
      "320\n",
      "321\n",
      "322\n",
      "323\n",
      "324\n",
      "325\n",
      "326\n",
      "327\n",
      "328\n",
      "329\n",
      "330\n",
      "331\n",
      "332\n",
      "333\n",
      "334\n",
      "335\n",
      "336\n",
      "337\n",
      "338\n",
      "339\n",
      "340\n",
      "341\n",
      "342\n",
      "343\n",
      "344\n",
      "345\n",
      "346\n",
      "347\n",
      "348\n",
      "349\n",
      "350\n",
      "351\n",
      "352\n",
      "353\n",
      "354\n",
      "355\n",
      "356\n",
      "357\n",
      "358\n",
      "359\n",
      "360\n",
      "361\n",
      "362\n",
      "363\n",
      "364\n",
      "365\n",
      "366\n",
      "367\n",
      "368\n",
      "369\n",
      "370\n",
      "371\n",
      "372\n",
      "373\n",
      "374\n",
      "375\n",
      "376\n",
      "377\n",
      "378\n",
      "379\n",
      "380\n",
      "381\n",
      "382\n",
      "383\n",
      "384\n",
      "385\n",
      "386\n",
      "387\n",
      "388\n",
      "389\n",
      "390\n",
      "391\n",
      "392\n",
      "393\n",
      "394\n",
      "395\n",
      "396\n",
      "397\n",
      "398\n",
      "399\n",
      "400\n",
      "401\n",
      "402\n",
      "403\n",
      "404\n",
      "405\n",
      "406\n",
      "407\n",
      "408\n",
      "409\n",
      "410\n",
      "411\n",
      "412\n",
      "413\n",
      "414\n",
      "415\n",
      "416\n",
      "417\n",
      "418\n",
      "419\n",
      "420\n",
      "421\n",
      "422\n",
      "423\n",
      "424\n",
      "425\n",
      "426\n",
      "427\n",
      "428\n",
      "429\n",
      "430\n",
      "431\n",
      "432\n",
      "433\n",
      "434\n",
      "435\n",
      "436\n",
      "437\n",
      "438\n",
      "439\n",
      "440\n",
      "441\n",
      "442\n",
      "443\n",
      "444\n",
      "445\n",
      "446\n",
      "447\n",
      "448\n",
      "449\n",
      "450\n",
      "451\n",
      "452\n",
      "453\n",
      "454\n",
      "455\n",
      "456\n",
      "457\n",
      "458\n",
      "459\n",
      "460\n",
      "461\n",
      "462\n",
      "463\n",
      "464\n",
      "465\n",
      "466\n",
      "467\n",
      "468\n",
      "469\n",
      "470\n",
      "471\n",
      "472\n",
      "473\n",
      "474\n",
      "475\n",
      "476\n",
      "477\n",
      "478\n",
      "479\n",
      "480\n",
      "481\n",
      "482\n",
      "483\n",
      "484\n",
      "485\n",
      "486\n",
      "487\n",
      "488\n",
      "489\n",
      "490\n",
      "491\n",
      "492\n",
      "493\n",
      "494\n",
      "495\n",
      "496\n",
      "497\n",
      "498\n",
      "499\n",
      "500\n",
      "501\n",
      "502\n",
      "503\n",
      "504\n",
      "505\n",
      "506\n",
      "507\n",
      "508\n",
      "509\n",
      "510\n",
      "511\n",
      "512\n",
      "513\n",
      "514\n",
      "515\n",
      "516\n",
      "517\n",
      "518\n",
      "519\n",
      "520\n",
      "521\n",
      "522\n",
      "523\n",
      "524\n",
      "525\n",
      "526\n",
      "527\n",
      "528\n",
      "529\n",
      "530\n",
      "531\n",
      "532\n",
      "533\n",
      "534\n",
      "535\n",
      "536\n",
      "537\n",
      "538\n",
      "539\n",
      "540\n",
      "541\n",
      "542\n",
      "543\n",
      "544\n",
      "545\n",
      "546\n",
      "547\n",
      "548\n",
      "549\n",
      "550\n",
      "551\n",
      "552\n",
      "553\n",
      "554\n",
      "555\n",
      "556\n",
      "557\n",
      "558\n",
      "559\n",
      "560\n",
      "561\n",
      "562\n",
      "563\n",
      "564\n",
      "565\n",
      "566\n",
      "567\n",
      "568\n",
      "569\n",
      "570\n",
      "571\n",
      "572\n",
      "573\n",
      "574\n",
      "575\n",
      "576\n",
      "577\n",
      "578\n",
      "579\n",
      "580\n",
      "581\n",
      "582\n",
      "583\n",
      "584\n",
      "585\n",
      "586\n",
      "587\n",
      "588\n",
      "589\n",
      "590\n",
      "591\n",
      "592\n",
      "593\n",
      "594\n",
      "595\n",
      "596\n",
      "597\n",
      "598\n",
      "599\n",
      "600\n",
      "601\n",
      "602\n",
      "603\n",
      "604\n",
      "605\n",
      "606\n",
      "607\n",
      "608\n",
      "609\n",
      "610\n",
      "611\n",
      "612\n",
      "613\n",
      "614\n",
      "615\n",
      "616\n",
      "617\n",
      "618\n",
      "619\n",
      "620\n",
      "621\n",
      "622\n",
      "623\n",
      "624\n",
      "625\n",
      "626\n",
      "627\n",
      "628\n",
      "629\n",
      "630\n",
      "631\n",
      "632\n",
      "633\n",
      "634\n",
      "635\n",
      "636\n",
      "637\n",
      "638\n",
      "639\n",
      "640\n",
      "641\n",
      "642\n",
      "643\n",
      "644\n",
      "645\n",
      "646\n",
      "647\n",
      "648\n",
      "649\n",
      "650\n",
      "651\n",
      "652\n",
      "653\n",
      "654\n",
      "655\n",
      "656\n",
      "657\n",
      "658\n",
      "659\n",
      "660\n",
      "661\n",
      "662\n",
      "663\n",
      "664\n",
      "665\n",
      "666\n",
      "667\n",
      "668\n",
      "669\n",
      "670\n",
      "671\n",
      "672\n",
      "673\n",
      "674\n",
      "675\n",
      "676\n",
      "677\n",
      "678\n",
      "679\n",
      "680\n",
      "681\n",
      "682\n",
      "683\n",
      "684\n",
      "685\n",
      "686\n",
      "687\n",
      "688\n",
      "689\n",
      "690\n",
      "691\n",
      "692\n",
      "693\n",
      "694\n",
      "695\n",
      "696\n",
      "697\n",
      "698\n",
      "699\n",
      "700\n",
      "701\n",
      "702\n",
      "703\n",
      "704\n",
      "705\n",
      "706\n",
      "707\n",
      "708\n",
      "709\n",
      "710\n",
      "711\n",
      "712\n",
      "713\n",
      "714\n",
      "715\n",
      "716\n",
      "717\n",
      "718\n",
      "719\n",
      "720\n",
      "721\n",
      "722\n",
      "723\n",
      "724\n"
     ]
    },
    {
     "name": "stderr",
     "output_type": "stream",
     "text": [
      " 77%|███████████████████████████████████████████████████████████████████████████████████▋                         | 725/944 [00:01<00:00, 392.06it/s]"
     ]
    },
    {
     "name": "stdout",
     "output_type": "stream",
     "text": [
      "725\n",
      "726\n",
      "727\n",
      "728\n",
      "729\n",
      "730\n",
      "731\n",
      "732\n",
      "733\n",
      "734\n",
      "735\n"
     ]
    },
    {
     "name": "stderr",
     "output_type": "stream",
     "text": [
      " 78%|█████████████████████████████████████████████████████████████████████████████████████▊                        | 736/944 [00:13<00:05, 41.57it/s]"
     ]
    },
    {
     "name": "stdout",
     "output_type": "stream",
     "text": [
      "736\n"
     ]
    },
    {
     "name": "stderr",
     "output_type": "stream",
     "text": [
      " 78%|█████████████████████████████████████████████████████████████████████████████████████▉                        | 737/944 [00:14<00:05, 35.79it/s]"
     ]
    },
    {
     "name": "stdout",
     "output_type": "stream",
     "text": [
      "737\n",
      "738\n",
      "739\n",
      "740\n",
      "741\n",
      "742\n",
      "743\n",
      "744\n",
      "745\n",
      "746\n",
      "747\n",
      "748\n",
      "749\n",
      "750\n",
      "751\n",
      "752\n",
      "753\n"
     ]
    },
    {
     "name": "stderr",
     "output_type": "stream",
     "text": [
      " 80%|███████████████████████████████████████████████████████████████████████████████████████▊                      | 754/944 [00:33<00:18, 10.22it/s]"
     ]
    },
    {
     "name": "stdout",
     "output_type": "stream",
     "text": [
      "754\n"
     ]
    },
    {
     "name": "stderr",
     "output_type": "stream",
     "text": [
      " 80%|███████████████████████████████████████████████████████████████████████████████████████▉                      | 755/944 [00:34<00:19,  9.76it/s]"
     ]
    },
    {
     "name": "stdout",
     "output_type": "stream",
     "text": [
      "755\n",
      "756\n",
      "757\n",
      "758\n",
      "759\n",
      "760\n",
      "761\n",
      "762\n",
      "763\n"
     ]
    },
    {
     "name": "stderr",
     "output_type": "stream",
     "text": [
      " 81%|█████████████████████████████████████████████████████████████████████████████████████████                     | 764/944 [00:50<00:36,  4.93it/s]"
     ]
    },
    {
     "name": "stdout",
     "output_type": "stream",
     "text": [
      "764\n"
     ]
    },
    {
     "name": "stderr",
     "output_type": "stream",
     "text": [
      " 81%|█████████████████████████████████████████████████████████████████████████████████████████▏                    | 765/944 [00:52<00:39,  4.56it/s]"
     ]
    },
    {
     "name": "stdout",
     "output_type": "stream",
     "text": [
      "765\n",
      "766\n",
      "767\n",
      "768\n",
      "769\n",
      "770\n"
     ]
    },
    {
     "name": "stderr",
     "output_type": "stream",
     "text": [
      " 82%|█████████████████████████████████████████████████████████████████████████████████████████▊                    | 771/944 [01:01<00:55,  3.10it/s]"
     ]
    },
    {
     "name": "stdout",
     "output_type": "stream",
     "text": [
      "771\n",
      "772\n",
      "773\n",
      "774\n"
     ]
    },
    {
     "name": "stderr",
     "output_type": "stream",
     "text": [
      " 82%|██████████████████████████████████████████████████████████████████████████████████████████▎                   | 775/944 [01:06<01:07,  2.51it/s]"
     ]
    },
    {
     "name": "stdout",
     "output_type": "stream",
     "text": [
      "775\n",
      "776\n",
      "777\n"
     ]
    },
    {
     "name": "stderr",
     "output_type": "stream",
     "text": [
      " 82%|██████████████████████████████████████████████████████████████████████████████████████████▋                   | 778/944 [01:11<01:19,  2.09it/s]"
     ]
    },
    {
     "name": "stdout",
     "output_type": "stream",
     "text": [
      "778\n",
      "779\n"
     ]
    },
    {
     "name": "stderr",
     "output_type": "stream",
     "text": [
      " 83%|██████████████████████████████████████████████████████████████████████████████████████████▉                   | 780/944 [01:14<01:30,  1.81it/s]"
     ]
    },
    {
     "name": "stdout",
     "output_type": "stream",
     "text": [
      "780\n",
      "781\n"
     ]
    },
    {
     "name": "stderr",
     "output_type": "stream",
     "text": [
      " 83%|███████████████████████████████████████████████████████████████████████████████████████████                   | 782/944 [01:16<01:34,  1.72it/s]"
     ]
    },
    {
     "name": "stdout",
     "output_type": "stream",
     "text": [
      "782\n"
     ]
    },
    {
     "name": "stderr",
     "output_type": "stream",
     "text": [
      " 83%|███████████████████████████████████████████████████████████████████████████████████████████▏                  | 783/944 [01:17<01:37,  1.65it/s]"
     ]
    },
    {
     "name": "stdout",
     "output_type": "stream",
     "text": [
      "783\n"
     ]
    },
    {
     "name": "stderr",
     "output_type": "stream",
     "text": [
      " 83%|███████████████████████████████████████████████████████████████████████████████████████████▎                  | 784/944 [01:21<02:07,  1.26it/s]"
     ]
    },
    {
     "name": "stdout",
     "output_type": "stream",
     "text": [
      "784\n"
     ]
    },
    {
     "name": "stderr",
     "output_type": "stream",
     "text": [
      " 83%|███████████████████████████████████████████████████████████████████████████████████████████▍                  | 785/944 [01:23<02:37,  1.01it/s]"
     ]
    },
    {
     "name": "stdout",
     "output_type": "stream",
     "text": [
      "785\n"
     ]
    },
    {
     "name": "stderr",
     "output_type": "stream",
     "text": [
      " 83%|███████████████████████████████████████████████████████████████████████████████████████████▌                  | 786/944 [01:26<03:03,  1.16s/it]"
     ]
    },
    {
     "name": "stdout",
     "output_type": "stream",
     "text": [
      "786\n"
     ]
    },
    {
     "name": "stderr",
     "output_type": "stream",
     "text": [
      " 83%|███████████████████████████████████████████████████████████████████████████████████████████▋                  | 787/944 [01:27<03:07,  1.19s/it]"
     ]
    },
    {
     "name": "stdout",
     "output_type": "stream",
     "text": [
      "787\n"
     ]
    },
    {
     "name": "stderr",
     "output_type": "stream",
     "text": [
      " 83%|███████████████████████████████████████████████████████████████████████████████████████████▊                  | 788/944 [01:28<03:03,  1.18s/it]"
     ]
    },
    {
     "name": "stdout",
     "output_type": "stream",
     "text": [
      "788\n"
     ]
    },
    {
     "name": "stderr",
     "output_type": "stream",
     "text": [
      " 84%|███████████████████████████████████████████████████████████████████████████████████████████▉                  | 789/944 [01:29<02:47,  1.08s/it]"
     ]
    },
    {
     "name": "stdout",
     "output_type": "stream",
     "text": [
      "789\n"
     ]
    },
    {
     "name": "stderr",
     "output_type": "stream",
     "text": [
      " 84%|████████████████████████████████████████████████████████████████████████████████████████████                  | 790/944 [01:32<03:36,  1.41s/it]"
     ]
    },
    {
     "name": "stdout",
     "output_type": "stream",
     "text": [
      "790\n"
     ]
    },
    {
     "name": "stderr",
     "output_type": "stream",
     "text": [
      " 84%|████████████████████████████████████████████████████████████████████████████████████████████▏                 | 791/944 [01:36<05:13,  2.05s/it]"
     ]
    },
    {
     "name": "stdout",
     "output_type": "stream",
     "text": [
      "791\n"
     ]
    },
    {
     "name": "stderr",
     "output_type": "stream",
     "text": [
      " 84%|████████████████████████████████████████████████████████████████████████████████████████████▎                 | 792/944 [01:38<05:03,  2.00s/it]"
     ]
    },
    {
     "name": "stdout",
     "output_type": "stream",
     "text": [
      "792\n"
     ]
    },
    {
     "name": "stderr",
     "output_type": "stream",
     "text": [
      " 84%|████████████████████████████████████████████████████████████████████████████████████████████▍                 | 793/944 [01:39<04:47,  1.90s/it]"
     ]
    },
    {
     "name": "stdout",
     "output_type": "stream",
     "text": [
      "793\n"
     ]
    },
    {
     "name": "stderr",
     "output_type": "stream",
     "text": [
      " 84%|████████████████████████████████████████████████████████████████████████████████████████████▌                 | 794/944 [01:45<07:32,  3.01s/it]"
     ]
    },
    {
     "name": "stdout",
     "output_type": "stream",
     "text": [
      "794\n"
     ]
    },
    {
     "name": "stderr",
     "output_type": "stream",
     "text": [
      " 84%|████████████████████████████████████████████████████████████████████████████████████████████▋                 | 795/944 [01:48<07:35,  3.05s/it]"
     ]
    },
    {
     "name": "stdout",
     "output_type": "stream",
     "text": [
      "795\n"
     ]
    },
    {
     "name": "stderr",
     "output_type": "stream",
     "text": [
      " 84%|████████████████████████████████████████████████████████████████████████████████████████████▊                 | 796/944 [01:50<06:50,  2.77s/it]"
     ]
    },
    {
     "name": "stdout",
     "output_type": "stream",
     "text": [
      "796\n"
     ]
    },
    {
     "name": "stderr",
     "output_type": "stream",
     "text": [
      " 84%|████████████████████████████████████████████████████████████████████████████████████████████▊                 | 797/944 [01:52<05:45,  2.35s/it]"
     ]
    },
    {
     "name": "stdout",
     "output_type": "stream",
     "text": [
      "797\n"
     ]
    },
    {
     "name": "stderr",
     "output_type": "stream",
     "text": [
      " 85%|████████████████████████████████████████████████████████████████████████████████████████████▉                 | 798/944 [01:53<04:50,  1.99s/it]"
     ]
    },
    {
     "name": "stdout",
     "output_type": "stream",
     "text": [
      "798\n"
     ]
    },
    {
     "name": "stderr",
     "output_type": "stream",
     "text": [
      " 85%|█████████████████████████████████████████████████████████████████████████████████████████████                 | 799/944 [01:56<05:21,  2.22s/it]"
     ]
    },
    {
     "name": "stdout",
     "output_type": "stream",
     "text": [
      "799\n"
     ]
    },
    {
     "name": "stderr",
     "output_type": "stream",
     "text": [
      " 85%|█████████████████████████████████████████████████████████████████████████████████████████████▏                | 800/944 [01:57<04:54,  2.05s/it]"
     ]
    },
    {
     "name": "stdout",
     "output_type": "stream",
     "text": [
      "800\n"
     ]
    },
    {
     "name": "stderr",
     "output_type": "stream",
     "text": [
      " 85%|█████████████████████████████████████████████████████████████████████████████████████████████▎                | 801/944 [01:58<04:17,  1.80s/it]"
     ]
    },
    {
     "name": "stdout",
     "output_type": "stream",
     "text": [
      "801\n"
     ]
    },
    {
     "name": "stderr",
     "output_type": "stream",
     "text": [
      " 85%|█████████████████████████████████████████████████████████████████████████████████████████████▍                | 802/944 [02:00<03:51,  1.63s/it]"
     ]
    },
    {
     "name": "stdout",
     "output_type": "stream",
     "text": [
      "802\n"
     ]
    },
    {
     "name": "stderr",
     "output_type": "stream",
     "text": [
      " 85%|█████████████████████████████████████████████████████████████████████████████████████████████▌                | 803/944 [02:00<03:15,  1.39s/it]"
     ]
    },
    {
     "name": "stdout",
     "output_type": "stream",
     "text": [
      "803\n"
     ]
    },
    {
     "name": "stderr",
     "output_type": "stream",
     "text": [
      " 85%|█████████████████████████████████████████████████████████████████████████████████████████████▋                | 804/944 [02:05<05:37,  2.41s/it]"
     ]
    },
    {
     "name": "stdout",
     "output_type": "stream",
     "text": [
      "804\n"
     ]
    },
    {
     "name": "stderr",
     "output_type": "stream",
     "text": [
      " 85%|█████████████████████████████████████████████████████████████████████████████████████████████▊                | 805/944 [02:08<05:59,  2.59s/it]"
     ]
    },
    {
     "name": "stdout",
     "output_type": "stream",
     "text": [
      "805\n"
     ]
    },
    {
     "name": "stderr",
     "output_type": "stream",
     "text": [
      " 85%|█████████████████████████████████████████████████████████████████████████████████████████████▉                | 806/944 [02:10<05:17,  2.30s/it]"
     ]
    },
    {
     "name": "stdout",
     "output_type": "stream",
     "text": [
      "806\n"
     ]
    },
    {
     "name": "stderr",
     "output_type": "stream",
     "text": [
      " 85%|██████████████████████████████████████████████████████████████████████████████████████████████                | 807/944 [02:11<04:35,  2.01s/it]"
     ]
    },
    {
     "name": "stdout",
     "output_type": "stream",
     "text": [
      "807\n"
     ]
    },
    {
     "name": "stderr",
     "output_type": "stream",
     "text": [
      " 86%|██████████████████████████████████████████████████████████████████████████████████████████████▏               | 808/944 [02:13<04:04,  1.80s/it]"
     ]
    },
    {
     "name": "stdout",
     "output_type": "stream",
     "text": [
      "808\n"
     ]
    },
    {
     "name": "stderr",
     "output_type": "stream",
     "text": [
      " 86%|██████████████████████████████████████████████████████████████████████████████████████████████▎               | 809/944 [02:15<04:34,  2.03s/it]"
     ]
    },
    {
     "name": "stdout",
     "output_type": "stream",
     "text": [
      "809\n"
     ]
    },
    {
     "name": "stderr",
     "output_type": "stream",
     "text": [
      " 86%|██████████████████████████████████████████████████████████████████████████████████████████████▍               | 810/944 [02:17<04:07,  1.85s/it]"
     ]
    },
    {
     "name": "stdout",
     "output_type": "stream",
     "text": [
      "810\n"
     ]
    },
    {
     "name": "stderr",
     "output_type": "stream",
     "text": [
      " 86%|██████████████████████████████████████████████████████████████████████████████████████████████▌               | 811/944 [02:18<03:53,  1.76s/it]"
     ]
    },
    {
     "name": "stdout",
     "output_type": "stream",
     "text": [
      "811\n"
     ]
    },
    {
     "name": "stderr",
     "output_type": "stream",
     "text": [
      " 86%|██████████████████████████████████████████████████████████████████████████████████████████████▌               | 812/944 [02:19<03:15,  1.48s/it]"
     ]
    },
    {
     "name": "stdout",
     "output_type": "stream",
     "text": [
      "812\n"
     ]
    },
    {
     "name": "stderr",
     "output_type": "stream",
     "text": [
      " 86%|██████████████████████████████████████████████████████████████████████████████████████████████▋               | 813/944 [02:21<03:31,  1.61s/it]"
     ]
    },
    {
     "name": "stdout",
     "output_type": "stream",
     "text": [
      "813\n"
     ]
    },
    {
     "name": "stderr",
     "output_type": "stream",
     "text": [
      " 86%|██████████████████████████████████████████████████████████████████████████████████████████████▊               | 814/944 [02:22<02:58,  1.38s/it]"
     ]
    },
    {
     "name": "stdout",
     "output_type": "stream",
     "text": [
      "814\n"
     ]
    },
    {
     "name": "stderr",
     "output_type": "stream",
     "text": [
      " 86%|██████████████████████████████████████████████████████████████████████████████████████████████▉               | 815/944 [02:23<02:47,  1.30s/it]"
     ]
    },
    {
     "name": "stdout",
     "output_type": "stream",
     "text": [
      "815\n"
     ]
    },
    {
     "name": "stderr",
     "output_type": "stream",
     "text": [
      " 86%|███████████████████████████████████████████████████████████████████████████████████████████████               | 816/944 [02:25<03:03,  1.43s/it]"
     ]
    },
    {
     "name": "stdout",
     "output_type": "stream",
     "text": [
      "816\n"
     ]
    },
    {
     "name": "stderr",
     "output_type": "stream",
     "text": [
      " 87%|███████████████████████████████████████████████████████████████████████████████████████████████▏              | 817/944 [02:26<03:04,  1.46s/it]"
     ]
    },
    {
     "name": "stdout",
     "output_type": "stream",
     "text": [
      "817\n"
     ]
    },
    {
     "name": "stderr",
     "output_type": "stream",
     "text": [
      " 87%|███████████████████████████████████████████████████████████████████████████████████████████████▎              | 818/944 [02:27<02:59,  1.43s/it]"
     ]
    },
    {
     "name": "stdout",
     "output_type": "stream",
     "text": [
      "818\n"
     ]
    },
    {
     "name": "stderr",
     "output_type": "stream",
     "text": [
      " 87%|███████████████████████████████████████████████████████████████████████████████████████████████▍              | 819/944 [02:30<03:49,  1.84s/it]"
     ]
    },
    {
     "name": "stdout",
     "output_type": "stream",
     "text": [
      "819\n"
     ]
    },
    {
     "name": "stderr",
     "output_type": "stream",
     "text": [
      " 87%|███████████████████████████████████████████████████████████████████████████████████████████████▌              | 820/944 [02:32<03:39,  1.77s/it]"
     ]
    },
    {
     "name": "stdout",
     "output_type": "stream",
     "text": [
      "820\n"
     ]
    },
    {
     "name": "stderr",
     "output_type": "stream",
     "text": [
      " 87%|███████████████████████████████████████████████████████████████████████████████████████████████▋              | 821/944 [02:35<04:29,  2.19s/it]"
     ]
    },
    {
     "name": "stdout",
     "output_type": "stream",
     "text": [
      "821\n"
     ]
    },
    {
     "name": "stderr",
     "output_type": "stream",
     "text": [
      " 87%|███████████████████████████████████████████████████████████████████████████████████████████████▊              | 822/944 [02:36<03:48,  1.87s/it]"
     ]
    },
    {
     "name": "stdout",
     "output_type": "stream",
     "text": [
      "822\n"
     ]
    },
    {
     "name": "stderr",
     "output_type": "stream",
     "text": [
      " 87%|███████████████████████████████████████████████████████████████████████████████████████████████▉              | 823/944 [02:39<04:11,  2.08s/it]"
     ]
    },
    {
     "name": "stdout",
     "output_type": "stream",
     "text": [
      "823\n"
     ]
    },
    {
     "name": "stderr",
     "output_type": "stream",
     "text": [
      " 87%|████████████████████████████████████████████████████████████████████████████████████████████████              | 824/944 [02:40<03:57,  1.98s/it]"
     ]
    },
    {
     "name": "stdout",
     "output_type": "stream",
     "text": [
      "824\n"
     ]
    },
    {
     "name": "stderr",
     "output_type": "stream",
     "text": [
      " 87%|████████████████████████████████████████████████████████████████████████████████████████████████▏             | 825/944 [02:46<05:47,  2.92s/it]"
     ]
    },
    {
     "name": "stdout",
     "output_type": "stream",
     "text": [
      "825\n"
     ]
    },
    {
     "name": "stderr",
     "output_type": "stream",
     "text": [
      " 88%|████████████████████████████████████████████████████████████████████████████████████████████████▎             | 826/944 [02:47<04:59,  2.54s/it]"
     ]
    },
    {
     "name": "stdout",
     "output_type": "stream",
     "text": [
      "826\n"
     ]
    },
    {
     "name": "stderr",
     "output_type": "stream",
     "text": [
      " 88%|████████████████████████████████████████████████████████████████████████████████████████████████▎             | 827/944 [02:50<04:51,  2.49s/it]"
     ]
    },
    {
     "name": "stdout",
     "output_type": "stream",
     "text": [
      "827\n"
     ]
    },
    {
     "name": "stderr",
     "output_type": "stream",
     "text": [
      " 88%|████████████████████████████████████████████████████████████████████████████████████████████████▍             | 828/944 [02:53<05:15,  2.72s/it]"
     ]
    },
    {
     "name": "stdout",
     "output_type": "stream",
     "text": [
      "828\n"
     ]
    },
    {
     "name": "stderr",
     "output_type": "stream",
     "text": [
      " 88%|████████████████████████████████████████████████████████████████████████████████████████████████▌             | 829/944 [02:54<04:10,  2.18s/it]"
     ]
    },
    {
     "name": "stdout",
     "output_type": "stream",
     "text": [
      "829\n"
     ]
    },
    {
     "name": "stderr",
     "output_type": "stream",
     "text": [
      " 88%|████████████████████████████████████████████████████████████████████████████████████████████████▋             | 830/944 [02:57<04:34,  2.41s/it]"
     ]
    },
    {
     "name": "stdout",
     "output_type": "stream",
     "text": [
      "830\n"
     ]
    },
    {
     "name": "stderr",
     "output_type": "stream",
     "text": [
      " 88%|████████████████████████████████████████████████████████████████████████████████████████████████▊             | 831/944 [02:59<04:38,  2.46s/it]"
     ]
    },
    {
     "name": "stdout",
     "output_type": "stream",
     "text": [
      "831\n"
     ]
    },
    {
     "name": "stderr",
     "output_type": "stream",
     "text": [
      " 88%|████████████████████████████████████████████████████████████████████████████████████████████████▉             | 832/944 [03:01<04:18,  2.31s/it]"
     ]
    },
    {
     "name": "stdout",
     "output_type": "stream",
     "text": [
      "832\n"
     ]
    },
    {
     "name": "stderr",
     "output_type": "stream",
     "text": [
      " 88%|█████████████████████████████████████████████████████████████████████████████████████████████████             | 833/944 [03:02<03:24,  1.85s/it]"
     ]
    },
    {
     "name": "stdout",
     "output_type": "stream",
     "text": [
      "833\n"
     ]
    },
    {
     "name": "stderr",
     "output_type": "stream",
     "text": [
      " 88%|█████████████████████████████████████████████████████████████████████████████████████████████████▏            | 834/944 [03:05<03:51,  2.11s/it]"
     ]
    },
    {
     "name": "stdout",
     "output_type": "stream",
     "text": [
      "834\n"
     ]
    },
    {
     "name": "stderr",
     "output_type": "stream",
     "text": [
      " 88%|█████████████████████████████████████████████████████████████████████████████████████████████████▎            | 835/944 [03:07<04:03,  2.23s/it]"
     ]
    },
    {
     "name": "stdout",
     "output_type": "stream",
     "text": [
      "835\n"
     ]
    },
    {
     "name": "stderr",
     "output_type": "stream",
     "text": [
      " 89%|█████████████████████████████████████████████████████████████████████████████████████████████████▍            | 836/944 [03:08<03:17,  1.83s/it]"
     ]
    },
    {
     "name": "stdout",
     "output_type": "stream",
     "text": [
      "836\n"
     ]
    },
    {
     "name": "stderr",
     "output_type": "stream",
     "text": [
      " 89%|█████████████████████████████████████████████████████████████████████████████████████████████████▌            | 837/944 [03:09<02:52,  1.62s/it]"
     ]
    },
    {
     "name": "stdout",
     "output_type": "stream",
     "text": [
      "837\n"
     ]
    },
    {
     "name": "stderr",
     "output_type": "stream",
     "text": [
      " 89%|█████████████████████████████████████████████████████████████████████████████████████████████████▋            | 838/944 [03:10<02:21,  1.33s/it]"
     ]
    },
    {
     "name": "stdout",
     "output_type": "stream",
     "text": [
      "838\n"
     ]
    },
    {
     "name": "stderr",
     "output_type": "stream",
     "text": [
      " 89%|█████████████████████████████████████████████████████████████████████████████████████████████████▊            | 839/944 [03:11<02:10,  1.24s/it]"
     ]
    },
    {
     "name": "stdout",
     "output_type": "stream",
     "text": [
      "839\n"
     ]
    },
    {
     "name": "stderr",
     "output_type": "stream",
     "text": [
      " 89%|█████████████████████████████████████████████████████████████████████████████████████████████████▉            | 840/944 [03:16<03:54,  2.25s/it]"
     ]
    },
    {
     "name": "stdout",
     "output_type": "stream",
     "text": [
      "840\n"
     ]
    },
    {
     "name": "stderr",
     "output_type": "stream",
     "text": [
      " 89%|█████████████████████████████████████████████████████████████████████████████████████████████████▉            | 841/944 [03:16<03:10,  1.85s/it]"
     ]
    },
    {
     "name": "stdout",
     "output_type": "stream",
     "text": [
      "841\n"
     ]
    },
    {
     "name": "stderr",
     "output_type": "stream",
     "text": [
      " 89%|██████████████████████████████████████████████████████████████████████████████████████████████████            | 842/944 [03:18<02:46,  1.63s/it]"
     ]
    },
    {
     "name": "stdout",
     "output_type": "stream",
     "text": [
      "842\n"
     ]
    },
    {
     "name": "stderr",
     "output_type": "stream",
     "text": [
      " 89%|██████████████████████████████████████████████████████████████████████████████████████████████████▏           | 843/944 [03:20<03:13,  1.92s/it]"
     ]
    },
    {
     "name": "stdout",
     "output_type": "stream",
     "text": [
      "843\n"
     ]
    },
    {
     "name": "stderr",
     "output_type": "stream",
     "text": [
      " 89%|██████████████████████████████████████████████████████████████████████████████████████████████████▎           | 844/944 [03:21<02:49,  1.70s/it]"
     ]
    },
    {
     "name": "stdout",
     "output_type": "stream",
     "text": [
      "844\n"
     ]
    },
    {
     "name": "stderr",
     "output_type": "stream",
     "text": [
      " 90%|██████████████████████████████████████████████████████████████████████████████████████████████████▍           | 845/944 [03:23<02:54,  1.77s/it]"
     ]
    },
    {
     "name": "stdout",
     "output_type": "stream",
     "text": [
      "845\n"
     ]
    },
    {
     "name": "stderr",
     "output_type": "stream",
     "text": [
      " 90%|██████████████████████████████████████████████████████████████████████████████████████████████████▌           | 846/944 [03:26<03:33,  2.17s/it]"
     ]
    },
    {
     "name": "stdout",
     "output_type": "stream",
     "text": [
      "846\n"
     ]
    },
    {
     "name": "stderr",
     "output_type": "stream",
     "text": [
      " 90%|██████████████████████████████████████████████████████████████████████████████████████████████████▋           | 847/944 [03:30<04:27,  2.75s/it]"
     ]
    },
    {
     "name": "stdout",
     "output_type": "stream",
     "text": [
      "847\n"
     ]
    },
    {
     "name": "stderr",
     "output_type": "stream",
     "text": [
      " 90%|██████████████████████████████████████████████████████████████████████████████████████████████████▊           | 848/944 [03:31<03:34,  2.23s/it]"
     ]
    },
    {
     "name": "stdout",
     "output_type": "stream",
     "text": [
      "848\n"
     ]
    },
    {
     "name": "stderr",
     "output_type": "stream",
     "text": [
      " 90%|██████████████████████████████████████████████████████████████████████████████████████████████████▉           | 849/944 [03:33<02:57,  1.87s/it]"
     ]
    },
    {
     "name": "stdout",
     "output_type": "stream",
     "text": [
      "849\n"
     ]
    },
    {
     "name": "stderr",
     "output_type": "stream",
     "text": [
      " 90%|███████████████████████████████████████████████████████████████████████████████████████████████████           | 850/944 [03:35<03:18,  2.11s/it]"
     ]
    },
    {
     "name": "stdout",
     "output_type": "stream",
     "text": [
      "850\n"
     ]
    },
    {
     "name": "stderr",
     "output_type": "stream",
     "text": [
      " 90%|███████████████████████████████████████████████████████████████████████████████████████████████████▏          | 851/944 [03:39<04:11,  2.70s/it]"
     ]
    },
    {
     "name": "stdout",
     "output_type": "stream",
     "text": [
      "851\n"
     ]
    },
    {
     "name": "stderr",
     "output_type": "stream",
     "text": [
      " 90%|███████████████████████████████████████████████████████████████████████████████████████████████████▎          | 852/944 [03:41<03:33,  2.32s/it]"
     ]
    },
    {
     "name": "stdout",
     "output_type": "stream",
     "text": [
      "852\n"
     ]
    },
    {
     "name": "stderr",
     "output_type": "stream",
     "text": [
      " 90%|███████████████████████████████████████████████████████████████████████████████████████████████████▍          | 853/944 [03:42<03:01,  2.00s/it]"
     ]
    },
    {
     "name": "stdout",
     "output_type": "stream",
     "text": [
      "853\n"
     ]
    },
    {
     "name": "stderr",
     "output_type": "stream",
     "text": [
      " 90%|███████████████████████████████████████████████████████████████████████████████████████████████████▌          | 854/944 [03:46<03:50,  2.56s/it]"
     ]
    },
    {
     "name": "stdout",
     "output_type": "stream",
     "text": [
      "854\n"
     ]
    },
    {
     "name": "stderr",
     "output_type": "stream",
     "text": [
      " 91%|███████████████████████████████████████████████████████████████████████████████████████████████████▋          | 855/944 [03:48<03:29,  2.35s/it]"
     ]
    },
    {
     "name": "stdout",
     "output_type": "stream",
     "text": [
      "855\n"
     ]
    },
    {
     "name": "stderr",
     "output_type": "stream",
     "text": [
      " 91%|███████████████████████████████████████████████████████████████████████████████████████████████████▋          | 856/944 [03:52<04:18,  2.93s/it]"
     ]
    },
    {
     "name": "stdout",
     "output_type": "stream",
     "text": [
      "856\n"
     ]
    },
    {
     "name": "stderr",
     "output_type": "stream",
     "text": [
      " 91%|███████████████████████████████████████████████████████████████████████████████████████████████████▊          | 857/944 [03:54<03:44,  2.58s/it]"
     ]
    },
    {
     "name": "stdout",
     "output_type": "stream",
     "text": [
      "857\n"
     ]
    },
    {
     "name": "stderr",
     "output_type": "stream",
     "text": [
      " 91%|███████████████████████████████████████████████████████████████████████████████████████████████████▉          | 858/944 [03:55<02:59,  2.09s/it]"
     ]
    },
    {
     "name": "stdout",
     "output_type": "stream",
     "text": [
      "858\n"
     ]
    },
    {
     "name": "stderr",
     "output_type": "stream",
     "text": [
      " 91%|████████████████████████████████████████████████████████████████████████████████████████████████████          | 859/944 [03:56<02:50,  2.01s/it]"
     ]
    },
    {
     "name": "stdout",
     "output_type": "stream",
     "text": [
      "859\n"
     ]
    },
    {
     "name": "stderr",
     "output_type": "stream",
     "text": [
      " 91%|████████████████████████████████████████████████████████████████████████████████████████████████████▏         | 860/944 [04:00<03:28,  2.48s/it]"
     ]
    },
    {
     "name": "stdout",
     "output_type": "stream",
     "text": [
      "860\n"
     ]
    },
    {
     "name": "stderr",
     "output_type": "stream",
     "text": [
      " 91%|████████████████████████████████████████████████████████████████████████████████████████████████████▎         | 861/944 [04:04<04:04,  2.95s/it]"
     ]
    },
    {
     "name": "stdout",
     "output_type": "stream",
     "text": [
      "861\n"
     ]
    },
    {
     "name": "stderr",
     "output_type": "stream",
     "text": [
      " 91%|████████████████████████████████████████████████████████████████████████████████████████████████████▍         | 862/944 [04:05<03:17,  2.41s/it]"
     ]
    },
    {
     "name": "stdout",
     "output_type": "stream",
     "text": [
      "862\n"
     ]
    },
    {
     "name": "stderr",
     "output_type": "stream",
     "text": [
      " 91%|████████████████████████████████████████████████████████████████████████████████████████████████████▌         | 863/944 [04:10<04:01,  2.98s/it]"
     ]
    },
    {
     "name": "stdout",
     "output_type": "stream",
     "text": [
      "863\n"
     ]
    },
    {
     "name": "stderr",
     "output_type": "stream",
     "text": [
      " 92%|████████████████████████████████████████████████████████████████████████████████████████████████████▋         | 864/944 [04:13<04:20,  3.26s/it]"
     ]
    },
    {
     "name": "stdout",
     "output_type": "stream",
     "text": [
      "864\n"
     ]
    },
    {
     "name": "stderr",
     "output_type": "stream",
     "text": [
      " 92%|████████████████████████████████████████████████████████████████████████████████████████████████████▊         | 865/944 [04:17<04:25,  3.35s/it]"
     ]
    },
    {
     "name": "stdout",
     "output_type": "stream",
     "text": [
      "865\n"
     ]
    },
    {
     "name": "stderr",
     "output_type": "stream",
     "text": [
      " 92%|████████████████████████████████████████████████████████████████████████████████████████████████████▉         | 866/944 [04:20<04:13,  3.25s/it]"
     ]
    },
    {
     "name": "stdout",
     "output_type": "stream",
     "text": [
      "866\n"
     ]
    },
    {
     "name": "stderr",
     "output_type": "stream",
     "text": [
      " 92%|█████████████████████████████████████████████████████████████████████████████████████████████████████         | 867/944 [04:21<03:20,  2.60s/it]"
     ]
    },
    {
     "name": "stdout",
     "output_type": "stream",
     "text": [
      "867\n"
     ]
    },
    {
     "name": "stderr",
     "output_type": "stream",
     "text": [
      " 92%|█████████████████████████████████████████████████████████████████████████████████████████████████████▏        | 868/944 [04:22<02:40,  2.11s/it]"
     ]
    },
    {
     "name": "stdout",
     "output_type": "stream",
     "text": [
      "868\n"
     ]
    },
    {
     "name": "stderr",
     "output_type": "stream",
     "text": [
      " 92%|█████████████████████████████████████████████████████████████████████████████████████████████████████▎        | 869/944 [04:27<03:31,  2.82s/it]"
     ]
    },
    {
     "name": "stdout",
     "output_type": "stream",
     "text": [
      "869\n"
     ]
    },
    {
     "name": "stderr",
     "output_type": "stream",
     "text": [
      " 92%|█████████████████████████████████████████████████████████████████████████████████████████████████████▍        | 870/944 [04:33<04:55,  4.00s/it]"
     ]
    },
    {
     "name": "stdout",
     "output_type": "stream",
     "text": [
      "870\n"
     ]
    },
    {
     "name": "stderr",
     "output_type": "stream",
     "text": [
      " 92%|█████████████████████████████████████████████████████████████████████████████████████████████████████▍        | 871/944 [04:35<03:55,  3.23s/it]"
     ]
    },
    {
     "name": "stdout",
     "output_type": "stream",
     "text": [
      "871\n"
     ]
    },
    {
     "name": "stderr",
     "output_type": "stream",
     "text": [
      " 92%|█████████████████████████████████████████████████████████████████████████████████████████████████████▌        | 872/944 [04:37<03:38,  3.03s/it]"
     ]
    },
    {
     "name": "stdout",
     "output_type": "stream",
     "text": [
      "872\n"
     ]
    },
    {
     "name": "stderr",
     "output_type": "stream",
     "text": [
      " 92%|█████████████████████████████████████████████████████████████████████████████████████████████████████▋        | 873/944 [04:40<03:22,  2.86s/it]"
     ]
    },
    {
     "name": "stdout",
     "output_type": "stream",
     "text": [
      "873\n"
     ]
    },
    {
     "name": "stderr",
     "output_type": "stream",
     "text": [
      " 93%|█████████████████████████████████████████████████████████████████████████████████████████████████████▊        | 874/944 [04:43<03:37,  3.11s/it]"
     ]
    },
    {
     "name": "stdout",
     "output_type": "stream",
     "text": [
      "874\n"
     ]
    },
    {
     "name": "stderr",
     "output_type": "stream",
     "text": [
      " 93%|█████████████████████████████████████████████████████████████████████████████████████████████████████▉        | 875/944 [04:45<02:55,  2.54s/it]"
     ]
    },
    {
     "name": "stdout",
     "output_type": "stream",
     "text": [
      "875\n"
     ]
    },
    {
     "name": "stderr",
     "output_type": "stream",
     "text": [
      " 93%|██████████████████████████████████████████████████████████████████████████████████████████████████████        | 876/944 [04:48<02:59,  2.64s/it]"
     ]
    },
    {
     "name": "stdout",
     "output_type": "stream",
     "text": [
      "876\n"
     ]
    },
    {
     "name": "stderr",
     "output_type": "stream",
     "text": [
      " 93%|██████████████████████████████████████████████████████████████████████████████████████████████████████▏       | 877/944 [04:49<02:24,  2.16s/it]"
     ]
    },
    {
     "name": "stdout",
     "output_type": "stream",
     "text": [
      "877\n"
     ]
    },
    {
     "name": "stderr",
     "output_type": "stream",
     "text": [
      " 93%|██████████████████████████████████████████████████████████████████████████████████████████████████████▎       | 878/944 [04:52<02:55,  2.66s/it]"
     ]
    },
    {
     "name": "stdout",
     "output_type": "stream",
     "text": [
      "878\n"
     ]
    },
    {
     "name": "stderr",
     "output_type": "stream",
     "text": [
      " 93%|██████████████████████████████████████████████████████████████████████████████████████████████████████▍       | 879/944 [04:56<03:04,  2.84s/it]"
     ]
    },
    {
     "name": "stdout",
     "output_type": "stream",
     "text": [
      "879\n"
     ]
    },
    {
     "name": "stderr",
     "output_type": "stream",
     "text": [
      " 93%|██████████████████████████████████████████████████████████████████████████████████████████████████████▌       | 880/944 [04:57<02:36,  2.44s/it]"
     ]
    },
    {
     "name": "stdout",
     "output_type": "stream",
     "text": [
      "880\n"
     ]
    },
    {
     "name": "stderr",
     "output_type": "stream",
     "text": [
      " 93%|██████████████████████████████████████████████████████████████████████████████████████████████████████▋       | 881/944 [05:01<02:57,  2.81s/it]"
     ]
    },
    {
     "name": "stdout",
     "output_type": "stream",
     "text": [
      "881\n"
     ]
    },
    {
     "name": "stderr",
     "output_type": "stream",
     "text": [
      " 93%|██████████████████████████████████████████████████████████████████████████████████████████████████████▊       | 882/944 [05:03<02:47,  2.71s/it]"
     ]
    },
    {
     "name": "stdout",
     "output_type": "stream",
     "text": [
      "882\n"
     ]
    },
    {
     "name": "stderr",
     "output_type": "stream",
     "text": [
      " 94%|██████████████████████████████████████████████████████████████████████████████████████████████████████▉       | 883/944 [05:10<03:48,  3.75s/it]"
     ]
    },
    {
     "name": "stdout",
     "output_type": "stream",
     "text": [
      "883\n"
     ]
    },
    {
     "name": "stderr",
     "output_type": "stream",
     "text": [
      " 94%|███████████████████████████████████████████████████████████████████████████████████████████████████████       | 884/944 [05:13<03:39,  3.66s/it]"
     ]
    },
    {
     "name": "stdout",
     "output_type": "stream",
     "text": [
      "884\n"
     ]
    },
    {
     "name": "stderr",
     "output_type": "stream",
     "text": [
      " 94%|███████████████████████████████████████████████████████████████████████████████████████████████████████▏      | 885/944 [05:14<02:46,  2.82s/it]"
     ]
    },
    {
     "name": "stdout",
     "output_type": "stream",
     "text": [
      "885\n"
     ]
    },
    {
     "name": "stderr",
     "output_type": "stream",
     "text": [
      " 94%|███████████████████████████████████████████████████████████████████████████████████████████████████████▏      | 886/944 [05:16<02:32,  2.64s/it]"
     ]
    },
    {
     "name": "stdout",
     "output_type": "stream",
     "text": [
      "886\n"
     ]
    },
    {
     "name": "stderr",
     "output_type": "stream",
     "text": [
      " 94%|███████████████████████████████████████████████████████████████████████████████████████████████████████▎      | 887/944 [05:18<02:23,  2.52s/it]"
     ]
    },
    {
     "name": "stdout",
     "output_type": "stream",
     "text": [
      "887\n"
     ]
    },
    {
     "name": "stderr",
     "output_type": "stream",
     "text": [
      " 94%|███████████████████████████████████████████████████████████████████████████████████████████████████████▍      | 888/944 [05:21<02:20,  2.50s/it]"
     ]
    },
    {
     "name": "stdout",
     "output_type": "stream",
     "text": [
      "888\n"
     ]
    },
    {
     "name": "stderr",
     "output_type": "stream",
     "text": [
      " 94%|███████████████████████████████████████████████████████████████████████████████████████████████████████▌      | 889/944 [05:22<01:51,  2.03s/it]"
     ]
    },
    {
     "name": "stdout",
     "output_type": "stream",
     "text": [
      "889\n"
     ]
    },
    {
     "name": "stderr",
     "output_type": "stream",
     "text": [
      " 94%|███████████████████████████████████████████████████████████████████████████████████████████████████████▋      | 890/944 [05:23<01:33,  1.73s/it]"
     ]
    },
    {
     "name": "stdout",
     "output_type": "stream",
     "text": [
      "890\n"
     ]
    },
    {
     "name": "stderr",
     "output_type": "stream",
     "text": [
      " 94%|███████████████████████████████████████████████████████████████████████████████████████████████████████▊      | 891/944 [05:25<01:39,  1.88s/it]"
     ]
    },
    {
     "name": "stdout",
     "output_type": "stream",
     "text": [
      "891\n"
     ]
    },
    {
     "name": "stderr",
     "output_type": "stream",
     "text": [
      " 94%|███████████████████████████████████████████████████████████████████████████████████████████████████████▉      | 892/944 [05:26<01:24,  1.62s/it]"
     ]
    },
    {
     "name": "stdout",
     "output_type": "stream",
     "text": [
      "892\n"
     ]
    },
    {
     "name": "stderr",
     "output_type": "stream",
     "text": [
      " 95%|████████████████████████████████████████████████████████████████████████████████████████████████████████      | 893/944 [05:29<01:41,  2.00s/it]"
     ]
    },
    {
     "name": "stdout",
     "output_type": "stream",
     "text": [
      "893\n"
     ]
    },
    {
     "name": "stderr",
     "output_type": "stream",
     "text": [
      " 95%|████████████████████████████████████████████████████████████████████████████████████████████████████████▏     | 894/944 [05:31<01:39,  1.98s/it]"
     ]
    },
    {
     "name": "stdout",
     "output_type": "stream",
     "text": [
      "894\n"
     ]
    },
    {
     "name": "stderr",
     "output_type": "stream",
     "text": [
      " 95%|████████████████████████████████████████████████████████████████████████████████████████████████████████▎     | 895/944 [05:34<01:54,  2.34s/it]"
     ]
    },
    {
     "name": "stdout",
     "output_type": "stream",
     "text": [
      "895\n"
     ]
    },
    {
     "name": "stderr",
     "output_type": "stream",
     "text": [
      " 95%|████████████████████████████████████████████████████████████████████████████████████████████████████████▍     | 896/944 [05:36<01:43,  2.16s/it]"
     ]
    },
    {
     "name": "stdout",
     "output_type": "stream",
     "text": [
      "896\n"
     ]
    },
    {
     "name": "stderr",
     "output_type": "stream",
     "text": [
      " 95%|████████████████████████████████████████████████████████████████████████████████████████████████████████▌     | 897/944 [05:37<01:24,  1.79s/it]"
     ]
    },
    {
     "name": "stdout",
     "output_type": "stream",
     "text": [
      "897\n"
     ]
    },
    {
     "name": "stderr",
     "output_type": "stream",
     "text": [
      " 95%|████████████████████████████████████████████████████████████████████████████████████████████████████████▋     | 898/944 [05:38<01:10,  1.53s/it]"
     ]
    },
    {
     "name": "stdout",
     "output_type": "stream",
     "text": [
      "898\n"
     ]
    },
    {
     "name": "stderr",
     "output_type": "stream",
     "text": [
      " 95%|████████████████████████████████████████████████████████████████████████████████████████████████████████▊     | 899/944 [05:39<01:06,  1.47s/it]"
     ]
    },
    {
     "name": "stdout",
     "output_type": "stream",
     "text": [
      "899\n"
     ]
    },
    {
     "name": "stderr",
     "output_type": "stream",
     "text": [
      " 95%|████████████████████████████████████████████████████████████████████████████████████████████████████████▊     | 900/944 [05:41<01:08,  1.55s/it]"
     ]
    },
    {
     "name": "stdout",
     "output_type": "stream",
     "text": [
      "900\n"
     ]
    },
    {
     "name": "stderr",
     "output_type": "stream",
     "text": [
      " 95%|████████████████████████████████████████████████████████████████████████████████████████████████████████▉     | 901/944 [05:43<01:13,  1.70s/it]"
     ]
    },
    {
     "name": "stdout",
     "output_type": "stream",
     "text": [
      "901\n"
     ]
    },
    {
     "name": "stderr",
     "output_type": "stream",
     "text": [
      " 96%|█████████████████████████████████████████████████████████████████████████████████████████████████████████     | 902/944 [05:44<01:01,  1.47s/it]"
     ]
    },
    {
     "name": "stdout",
     "output_type": "stream",
     "text": [
      "902\n"
     ]
    },
    {
     "name": "stderr",
     "output_type": "stream",
     "text": [
      " 96%|█████████████████████████████████████████████████████████████████████████████████████████████████████████▏    | 903/944 [05:48<01:31,  2.22s/it]"
     ]
    },
    {
     "name": "stdout",
     "output_type": "stream",
     "text": [
      "903\n"
     ]
    },
    {
     "name": "stderr",
     "output_type": "stream",
     "text": [
      " 96%|█████████████████████████████████████████████████████████████████████████████████████████████████████████▎    | 904/944 [05:49<01:15,  1.89s/it]"
     ]
    },
    {
     "name": "stdout",
     "output_type": "stream",
     "text": [
      "904\n"
     ]
    },
    {
     "name": "stderr",
     "output_type": "stream",
     "text": [
      " 96%|█████████████████████████████████████████████████████████████████████████████████████████████████████████▍    | 905/944 [05:50<01:07,  1.72s/it]"
     ]
    },
    {
     "name": "stdout",
     "output_type": "stream",
     "text": [
      "905\n"
     ]
    },
    {
     "name": "stderr",
     "output_type": "stream",
     "text": [
      " 96%|█████████████████████████████████████████████████████████████████████████████████████████████████████████▌    | 906/944 [05:51<00:56,  1.48s/it]"
     ]
    },
    {
     "name": "stdout",
     "output_type": "stream",
     "text": [
      "906\n"
     ]
    },
    {
     "name": "stderr",
     "output_type": "stream",
     "text": [
      " 96%|█████████████████████████████████████████████████████████████████████████████████████████████████████████▋    | 907/944 [05:53<01:03,  1.73s/it]"
     ]
    },
    {
     "name": "stdout",
     "output_type": "stream",
     "text": [
      "907\n"
     ]
    },
    {
     "name": "stderr",
     "output_type": "stream",
     "text": [
      " 96%|█████████████████████████████████████████████████████████████████████████████████████████████████████████▊    | 908/944 [05:55<01:03,  1.77s/it]"
     ]
    },
    {
     "name": "stdout",
     "output_type": "stream",
     "text": [
      "908\n"
     ]
    },
    {
     "name": "stderr",
     "output_type": "stream",
     "text": [
      " 96%|█████████████████████████████████████████████████████████████████████████████████████████████████████████▉    | 909/944 [05:58<01:09,  1.99s/it]"
     ]
    },
    {
     "name": "stdout",
     "output_type": "stream",
     "text": [
      "909\n"
     ]
    },
    {
     "name": "stderr",
     "output_type": "stream",
     "text": [
      " 96%|██████████████████████████████████████████████████████████████████████████████████████████████████████████    | 910/944 [05:59<00:57,  1.70s/it]"
     ]
    },
    {
     "name": "stdout",
     "output_type": "stream",
     "text": [
      "910\n"
     ]
    },
    {
     "name": "stderr",
     "output_type": "stream",
     "text": [
      " 97%|██████████████████████████████████████████████████████████████████████████████████████████████████████████▏   | 911/944 [06:00<00:48,  1.46s/it]"
     ]
    },
    {
     "name": "stdout",
     "output_type": "stream",
     "text": [
      "911\n"
     ]
    },
    {
     "name": "stderr",
     "output_type": "stream",
     "text": [
      " 97%|██████████████████████████████████████████████████████████████████████████████████████████████████████████▎   | 912/944 [06:03<01:01,  1.92s/it]"
     ]
    },
    {
     "name": "stdout",
     "output_type": "stream",
     "text": [
      "912\n"
     ]
    },
    {
     "name": "stderr",
     "output_type": "stream",
     "text": [
      " 97%|██████████████████████████████████████████████████████████████████████████████████████████████████████████▍   | 913/944 [06:04<00:53,  1.74s/it]"
     ]
    },
    {
     "name": "stdout",
     "output_type": "stream",
     "text": [
      "913\n"
     ]
    },
    {
     "name": "stderr",
     "output_type": "stream",
     "text": [
      " 97%|██████████████████████████████████████████████████████████████████████████████████████████████████████████▌   | 914/944 [06:09<01:27,  2.91s/it]"
     ]
    },
    {
     "name": "stdout",
     "output_type": "stream",
     "text": [
      "914\n"
     ]
    },
    {
     "name": "stderr",
     "output_type": "stream",
     "text": [
      " 97%|██████████████████████████████████████████████████████████████████████████████████████████████████████████▌   | 915/944 [06:11<01:14,  2.56s/it]"
     ]
    },
    {
     "name": "stdout",
     "output_type": "stream",
     "text": [
      "915\n"
     ]
    },
    {
     "name": "stderr",
     "output_type": "stream",
     "text": [
      " 97%|██████████████████████████████████████████████████████████████████████████████████████████████████████████▋   | 916/944 [06:13<01:01,  2.19s/it]"
     ]
    },
    {
     "name": "stdout",
     "output_type": "stream",
     "text": [
      "916\n"
     ]
    },
    {
     "name": "stderr",
     "output_type": "stream",
     "text": [
      " 97%|██████████████████████████████████████████████████████████████████████████████████████████████████████████▊   | 917/944 [06:14<00:51,  1.92s/it]"
     ]
    },
    {
     "name": "stdout",
     "output_type": "stream",
     "text": [
      "917\n"
     ]
    },
    {
     "name": "stderr",
     "output_type": "stream",
     "text": [
      " 97%|██████████████████████████████████████████████████████████████████████████████████████████████████████████▉   | 918/944 [06:16<00:48,  1.85s/it]"
     ]
    },
    {
     "name": "stdout",
     "output_type": "stream",
     "text": [
      "918\n"
     ]
    },
    {
     "name": "stderr",
     "output_type": "stream",
     "text": [
      " 97%|███████████████████████████████████████████████████████████████████████████████████████████████████████████   | 919/944 [06:17<00:46,  1.84s/it]"
     ]
    },
    {
     "name": "stdout",
     "output_type": "stream",
     "text": [
      "919\n"
     ]
    },
    {
     "name": "stderr",
     "output_type": "stream",
     "text": [
      " 97%|███████████████████████████████████████████████████████████████████████████████████████████████████████████▏  | 920/944 [06:19<00:39,  1.66s/it]"
     ]
    },
    {
     "name": "stdout",
     "output_type": "stream",
     "text": [
      "920\n"
     ]
    },
    {
     "name": "stderr",
     "output_type": "stream",
     "text": [
      " 98%|███████████████████████████████████████████████████████████████████████████████████████████████████████████▎  | 921/944 [06:20<00:39,  1.72s/it]"
     ]
    },
    {
     "name": "stdout",
     "output_type": "stream",
     "text": [
      "921\n"
     ]
    },
    {
     "name": "stderr",
     "output_type": "stream",
     "text": [
      " 98%|███████████████████████████████████████████████████████████████████████████████████████████████████████████▍  | 922/944 [06:21<00:31,  1.45s/it]"
     ]
    },
    {
     "name": "stdout",
     "output_type": "stream",
     "text": [
      "922\n"
     ]
    },
    {
     "name": "stderr",
     "output_type": "stream",
     "text": [
      " 98%|███████████████████████████████████████████████████████████████████████████████████████████████████████████▌  | 923/944 [06:22<00:26,  1.28s/it]"
     ]
    },
    {
     "name": "stdout",
     "output_type": "stream",
     "text": [
      "923\n"
     ]
    },
    {
     "name": "stderr",
     "output_type": "stream",
     "text": [
      " 98%|███████████████████████████████████████████████████████████████████████████████████████████████████████████▋  | 924/944 [06:26<00:40,  2.02s/it]"
     ]
    },
    {
     "name": "stdout",
     "output_type": "stream",
     "text": [
      "924\n"
     ]
    },
    {
     "name": "stderr",
     "output_type": "stream",
     "text": [
      " 98%|███████████████████████████████████████████████████████████████████████████████████████████████████████████▊  | 925/944 [06:28<00:35,  1.89s/it]"
     ]
    },
    {
     "name": "stdout",
     "output_type": "stream",
     "text": [
      "925\n"
     ]
    },
    {
     "name": "stderr",
     "output_type": "stream",
     "text": [
      " 98%|███████████████████████████████████████████████████████████████████████████████████████████████████████████▉  | 926/944 [06:30<00:39,  2.19s/it]"
     ]
    },
    {
     "name": "stdout",
     "output_type": "stream",
     "text": [
      "926\n"
     ]
    },
    {
     "name": "stderr",
     "output_type": "stream",
     "text": [
      " 98%|████████████████████████████████████████████████████████████████████████████████████████████████████████████  | 927/944 [06:32<00:35,  2.08s/it]"
     ]
    },
    {
     "name": "stdout",
     "output_type": "stream",
     "text": [
      "927\n"
     ]
    },
    {
     "name": "stderr",
     "output_type": "stream",
     "text": [
      " 98%|████████████████████████████████████████████████████████████████████████████████████████████████████████████▏ | 928/944 [06:35<00:35,  2.20s/it]"
     ]
    },
    {
     "name": "stdout",
     "output_type": "stream",
     "text": [
      "928\n"
     ]
    },
    {
     "name": "stderr",
     "output_type": "stream",
     "text": [
      " 98%|████████████████████████████████████████████████████████████████████████████████████████████████████████████▎ | 929/944 [06:38<00:39,  2.64s/it]"
     ]
    },
    {
     "name": "stdout",
     "output_type": "stream",
     "text": [
      "929\n"
     ]
    },
    {
     "name": "stderr",
     "output_type": "stream",
     "text": [
      " 99%|████████████████████████████████████████████████████████████████████████████████████████████████████████████▎ | 930/944 [06:43<00:44,  3.17s/it]"
     ]
    },
    {
     "name": "stdout",
     "output_type": "stream",
     "text": [
      "930\n"
     ]
    },
    {
     "name": "stderr",
     "output_type": "stream",
     "text": [
      " 99%|████████████████████████████████████████████████████████████████████████████████████████████████████████████▍ | 931/944 [06:47<00:43,  3.36s/it]"
     ]
    },
    {
     "name": "stdout",
     "output_type": "stream",
     "text": [
      "931\n"
     ]
    },
    {
     "name": "stderr",
     "output_type": "stream",
     "text": [
      " 99%|████████████████████████████████████████████████████████████████████████████████████████████████████████████▌ | 932/944 [06:48<00:32,  2.75s/it]"
     ]
    },
    {
     "name": "stdout",
     "output_type": "stream",
     "text": [
      "932\n"
     ]
    },
    {
     "name": "stderr",
     "output_type": "stream",
     "text": [
      " 99%|████████████████████████████████████████████████████████████████████████████████████████████████████████████▋ | 933/944 [06:51<00:32,  2.94s/it]"
     ]
    },
    {
     "name": "stdout",
     "output_type": "stream",
     "text": [
      "933\n"
     ]
    },
    {
     "name": "stderr",
     "output_type": "stream",
     "text": [
      " 99%|████████████████████████████████████████████████████████████████████████████████████████████████████████████▊ | 934/944 [06:55<00:32,  3.29s/it]"
     ]
    },
    {
     "name": "stdout",
     "output_type": "stream",
     "text": [
      "934\n"
     ]
    },
    {
     "name": "stderr",
     "output_type": "stream",
     "text": [
      " 99%|████████████████████████████████████████████████████████████████████████████████████████████████████████████▉ | 935/944 [06:56<00:23,  2.59s/it]"
     ]
    },
    {
     "name": "stdout",
     "output_type": "stream",
     "text": [
      "935\n"
     ]
    },
    {
     "name": "stderr",
     "output_type": "stream",
     "text": [
      " 99%|█████████████████████████████████████████████████████████████████████████████████████████████████████████████ | 936/944 [07:00<00:22,  2.84s/it]"
     ]
    },
    {
     "name": "stdout",
     "output_type": "stream",
     "text": [
      "936\n"
     ]
    },
    {
     "name": "stderr",
     "output_type": "stream",
     "text": [
      " 99%|█████████████████████████████████████████████████████████████████████████████████████████████████████████████▏| 937/944 [07:02<00:19,  2.75s/it]"
     ]
    },
    {
     "name": "stdout",
     "output_type": "stream",
     "text": [
      "937\n"
     ]
    },
    {
     "name": "stderr",
     "output_type": "stream",
     "text": [
      " 99%|█████████████████████████████████████████████████████████████████████████████████████████████████████████████▎| 938/944 [07:04<00:15,  2.52s/it]"
     ]
    },
    {
     "name": "stdout",
     "output_type": "stream",
     "text": [
      "938\n"
     ]
    },
    {
     "name": "stderr",
     "output_type": "stream",
     "text": [
      " 99%|█████████████████████████████████████████████████████████████████████████████████████████████████████████████▍| 939/944 [07:11<00:18,  3.70s/it]"
     ]
    },
    {
     "name": "stdout",
     "output_type": "stream",
     "text": [
      "939\n"
     ]
    },
    {
     "name": "stderr",
     "output_type": "stream",
     "text": [
      "100%|█████████████████████████████████████████████████████████████████████████████████████████████████████████████▌| 940/944 [07:12<00:11,  2.87s/it]"
     ]
    },
    {
     "name": "stdout",
     "output_type": "stream",
     "text": [
      "940\n"
     ]
    },
    {
     "name": "stderr",
     "output_type": "stream",
     "text": [
      "100%|█████████████████████████████████████████████████████████████████████████████████████████████████████████████▋| 941/944 [07:14<00:08,  2.67s/it]"
     ]
    },
    {
     "name": "stdout",
     "output_type": "stream",
     "text": [
      "941\n"
     ]
    },
    {
     "name": "stderr",
     "output_type": "stream",
     "text": [
      "100%|█████████████████████████████████████████████████████████████████████████████████████████████████████████████▊| 942/944 [07:15<00:04,  2.18s/it]"
     ]
    },
    {
     "name": "stdout",
     "output_type": "stream",
     "text": [
      "942\n"
     ]
    },
    {
     "name": "stderr",
     "output_type": "stream",
     "text": [
      "100%|█████████████████████████████████████████████████████████████████████████████████████████████████████████████▉| 943/944 [07:17<00:02,  2.27s/it]"
     ]
    },
    {
     "name": "stdout",
     "output_type": "stream",
     "text": [
      "943\n"
     ]
    },
    {
     "name": "stderr",
     "output_type": "stream",
     "text": [
      "100%|██████████████████████████████████████████████████████████████████████████████████████████████████████████████| 944/944 [07:21<00:00,  2.14it/s]\n"
     ]
    }
   ],
   "source": [
    "for i, rec in enumerate(tqdm(ground_truth)):\n",
    "    if i in answers_gpt35:\n",
    "        continue\n",
    "\n",
    "    llm_model = \"gpt-3.5-turbo\"\n",
    "    answer_llm = rag(rec, model=llm_model)\n",
    "\n",
    "    doc_id = rec['document']\n",
    "    original_doc = doc_idx[doc_id]\n",
    "    answer_orig = original_doc['text']\n",
    "\n",
    "    answers_gpt35[i] = {\n",
    "        'answer_llm': answer_llm,\n",
    "        'answer_orig': answer_orig,\n",
    "        'document': doc_id,\n",
    "        'question': rec['question'],\n",
    "        'title': rec['title'],\n",
    "    }"
   ]
  },
  {
   "cell_type": "code",
   "execution_count": 121,
   "id": "d01ff512-014c-41da-9d7c-deb442a01b56",
   "metadata": {},
   "outputs": [
    {
     "data": {
      "text/plain": [
       "944"
      ]
     },
     "execution_count": 121,
     "metadata": {},
     "output_type": "execute_result"
    }
   ],
   "source": [
    "len(answers_gpt35)"
   ]
  },
  {
   "cell_type": "code",
   "execution_count": 132,
   "id": "414d67d0-f04b-4a28-919c-66704b3f1ed9",
   "metadata": {},
   "outputs": [
    {
     "data": {
      "text/plain": [
       "{'answer_llm': 'Reviewers contribute to the software development process by reviewing code for quality and correctness on some part of the project. They are knowledgeable about both the codebase and software engineering principles, ensuring the integrity and quality of the code being contributed.',\n",
       " 'answer_orig': 'A person who reviews code for quality and correctness on some part of the project.\\n\\n<!--more--> \\n\\nReviewers are knowledgeable about both the codebase and software engineering principles. Reviewer status is scoped to a part of the codebase.',\n",
       " 'document': '8e58cd87',\n",
       " 'question': 'How do reviewers contribute to the software development process?',\n",
       " 'title': 'Reviewer'}"
      ]
     },
     "execution_count": 132,
     "metadata": {},
     "output_type": "execute_result"
    }
   ],
   "source": [
    "answers_gpt35[22]"
   ]
  },
  {
   "cell_type": "code",
   "execution_count": 175,
   "id": "36bdb949-16df-4f80-8471-8861e211ab73",
   "metadata": {},
   "outputs": [],
   "source": [
    "results_gpt35 = [None] * len(ground_truth)\n",
    "\n",
    "for i, val in answers_gpt35.items():\n",
    "    results_gpt35[i] = val.copy()\n",
    "    results_gpt35[i].update(ground_truth[i])"
   ]
  },
  {
   "cell_type": "code",
   "execution_count": 176,
   "id": "901cf040-c4c9-470f-9d98-051beaa862df",
   "metadata": {},
   "outputs": [],
   "source": [
    "df_gpt35 = pd.DataFrame(results_gpt35)\n",
    "df_gpt35.to_csv('../data_gloss/results-gpt35.csv', index=False)"
   ]
  },
  {
   "cell_type": "code",
   "execution_count": 177,
   "id": "4fda18f4-eda3-4cb9-b6f1-5a0a3e20c673",
   "metadata": {},
   "outputs": [
    {
     "name": "stderr",
     "output_type": "stream",
     "text": [
      "huggingface/tokenizers: The current process just got forked, after parallelism has already been used. Disabling parallelism to avoid deadlocks...\n",
      "To disable this warning, you can either:\n",
      "\t- Avoid using `tokenizers` before the fork if possible\n",
      "\t- Explicitly set the environment variable TOKENIZERS_PARALLELISM=(true | false)\n"
     ]
    },
    {
     "name": "stdout",
     "output_type": "stream",
     "text": [
      "answer_llm,answer_orig,document,question,title\n",
      "Labels in Kubernetes are tags used to attach identifying attributes to objects that are meaningful and relevant to users. They are key/value pairs that help organize objects and select subsets of objects within a Kubernetes cluster.,\"Tags objects with identifying attributes that are meaningful and relevant to users.\n",
      "\n",
      "<!--more--> \n",
      "\n",
      "Labels are key/value pairs that are attached to objects such as . They are used to organize and to select subsets of objects.\",b021df6a,What are labels used for in Kubernetes?,Label\n",
      "\"In Kubernetes, a label key and value must begin with a letter or number, and may contain letters, numbers, hyphens, dots, and underscores, up to 63 characters each. Optionally, the key can begin with a DNS subdomain prefix and a single '/', like example.com/my-app. If --overwrite is true, then existing labels can be overwritten; otherwise, attempting to overwrite a label will result in an error. If --resource-version is specified, then updates will use this resource version; otherwise, the existing resource-version will be used.\",\"Tags objects with identifying attributes that are meaningful and relevant to users.\n",
      "\n",
      "<!--more--> \n",
      "\n"
     ]
    }
   ],
   "source": [
    "!head ../data_gloss/results-gpt35.csv"
   ]
  },
  {
   "cell_type": "markdown",
   "id": "3aa3b20c-ade7-4a85-94af-7e4bb6d697bc",
   "metadata": {},
   "source": [
    "### Cosine Similarity"
   ]
  },
  {
   "cell_type": "markdown",
   "id": "0d9b6426-e9b1-4467-ae9b-6d8dd2f96b8e",
   "metadata": {},
   "source": [
    "### gpt-4o"
   ]
  },
  {
   "cell_type": "code",
   "execution_count": 171,
   "id": "e19f3a3c-fa5f-40b7-8d02-131723fa21f0",
   "metadata": {},
   "outputs": [],
   "source": [
    "results_gpt4o = df_gpt4o.to_dict(orient='records')"
   ]
  },
  {
   "cell_type": "code",
   "execution_count": 172,
   "id": "9f3bd373-1822-4519-9b09-70fc88b06eee",
   "metadata": {},
   "outputs": [],
   "source": [
    "def compute_similarity(record):\n",
    "    answer_orig = record['answer_orig']\n",
    "    answer_llm = record['answer_llm']\n",
    "    \n",
    "    v_llm = model.encode(answer_llm)\n",
    "    v_orig = model.encode(answer_orig)\n",
    "    \n",
    "    return v_llm.dot(v_orig)"
   ]
  },
  {
   "cell_type": "code",
   "execution_count": 173,
   "id": "3de19780-8dd2-46e8-8633-eb9fc09f31ef",
   "metadata": {},
   "outputs": [
    {
     "name": "stderr",
     "output_type": "stream",
     "text": [
      "100%|██████████████████████████████████████████████████████████████████████████████████████████████████████████████| 944/944 [04:47<00:00,  3.29it/s]\n"
     ]
    }
   ],
   "source": [
    "similarity = []\n",
    "\n",
    "for record in tqdm(results_gpt4o):\n",
    "    sim = compute_similarity(record)\n",
    "    similarity.append(sim)"
   ]
  },
  {
   "cell_type": "code",
   "execution_count": 174,
   "id": "e83a94a5-a904-47ab-bbf2-f65536af581a",
   "metadata": {},
   "outputs": [
    {
     "data": {
      "text/plain": [
       "count    944.000000\n",
       "mean       0.918553\n",
       "std        0.047847\n",
       "min        0.721664\n",
       "25%        0.893284\n",
       "50%        0.923178\n",
       "75%        0.951719\n",
       "max        1.000000\n",
       "Name: cosine, dtype: float64"
      ]
     },
     "execution_count": 174,
     "metadata": {},
     "output_type": "execute_result"
    }
   ],
   "source": [
    "df_gpt4o['cosine'] = similarity\n",
    "df_gpt4o['cosine'].describe()"
   ]
  },
  {
   "cell_type": "markdown",
   "id": "00b392b8-253c-419a-b09a-d530b88ee1e4",
   "metadata": {},
   "source": [
    "### gpt-3.5-turbo"
   ]
  },
  {
   "cell_type": "code",
   "execution_count": 178,
   "id": "76ff7a53-53b8-4ae0-888a-349274ec99a3",
   "metadata": {},
   "outputs": [
    {
     "name": "stdout",
     "output_type": "stream",
     "text": [
      "The history saving thread hit an unexpected error (OperationalError('attempt to write a readonly database')).History will not be written to the database.\n"
     ]
    },
    {
     "name": "stderr",
     "output_type": "stream",
     "text": [
      "100%|██████████████████████████████████████████████████████████████████████████████████████████████████████████████| 944/944 [05:14<00:00,  3.00it/s]\n"
     ]
    }
   ],
   "source": [
    "results_gpt35 = df_gpt35.to_dict(orient='records')\n",
    "\n",
    "similarity_35 = []\n",
    "\n",
    "for record in tqdm(results_gpt35):\n",
    "    sim = compute_similarity(record)\n",
    "    similarity_35.append(sim)"
   ]
  },
  {
   "cell_type": "code",
   "execution_count": 179,
   "id": "590b87fe-cb47-4e05-bac4-9009b4ca2d30",
   "metadata": {},
   "outputs": [
    {
     "data": {
      "text/plain": [
       "count    944.000000\n",
       "mean       0.918736\n",
       "std        0.048098\n",
       "min        0.713541\n",
       "25%        0.893274\n",
       "50%        0.924423\n",
       "75%        0.951172\n",
       "max        0.999111\n",
       "Name: cosine, dtype: float64"
      ]
     },
     "execution_count": 179,
     "metadata": {},
     "output_type": "execute_result"
    }
   ],
   "source": [
    "df_gpt35['cosine'] = similarity_35\n",
    "df_gpt35['cosine'].describe()"
   ]
  },
  {
   "cell_type": "code",
   "execution_count": 180,
   "id": "7cec45df-0f06-4be2-b8b2-1cab5ea8f932",
   "metadata": {},
   "outputs": [],
   "source": [
    "import seaborn as sns\n",
    "import matplotlib.pyplot as plt"
   ]
  },
  {
   "cell_type": "code",
   "execution_count": 181,
   "id": "07ffe849-9c5b-4381-b784-495e11154e6a",
   "metadata": {},
   "outputs": [
    {
     "name": "stderr",
     "output_type": "stream",
     "text": [
      "/var/folders/x1/0r7y2h8j4c52sbjgqxwc9m5c0000gn/T/ipykernel_68598/4245021150.py:1: UserWarning: \n",
      "\n",
      "`distplot` is a deprecated function and will be removed in seaborn v0.14.0.\n",
      "\n",
      "Please adapt your code to use either `displot` (a figure-level function with\n",
      "similar flexibility) or `histplot` (an axes-level function for histograms).\n",
      "\n",
      "For a guide to updating your code to use the new functions, please see\n",
      "https://gist.github.com/mwaskom/de44147ed2974457ad6372750bbe5751\n",
      "\n",
      "  sns.distplot(df_gpt4o['cosine'], label='4o')\n",
      "/var/folders/x1/0r7y2h8j4c52sbjgqxwc9m5c0000gn/T/ipykernel_68598/4245021150.py:2: UserWarning: \n",
      "\n",
      "`distplot` is a deprecated function and will be removed in seaborn v0.14.0.\n",
      "\n",
      "Please adapt your code to use either `displot` (a figure-level function with\n",
      "similar flexibility) or `histplot` (an axes-level function for histograms).\n",
      "\n",
      "For a guide to updating your code to use the new functions, please see\n",
      "https://gist.github.com/mwaskom/de44147ed2974457ad6372750bbe5751\n",
      "\n",
      "  sns.distplot(df_gpt35['cosine'], label='3.5')\n"
     ]
    },
    {
     "data": {
      "text/plain": [
       "<matplotlib.legend.Legend at 0x5203c1ee0>"
      ]
     },
     "execution_count": 181,
     "metadata": {},
     "output_type": "execute_result"
    },
    {
     "data": {
      "image/png": "[encoded data removed]",
      "text/plain": [
       "<Figure size 640x480 with 1 Axes>"
      ]
     },
     "metadata": {},
     "output_type": "display_data"
    }
   ],
   "source": [
    "sns.distplot(df_gpt4o['cosine'], label='4o')\n",
    "sns.distplot(df_gpt35['cosine'], label='3.5')\n",
    "\n",
    "plt.title(\"RAG LLM performance\")\n",
    "plt.xlabel(\"A->Q->A' Cosine Similarity\")\n",
    "plt.legend()"
   ]
  },
  {
   "cell_type": "markdown",
   "id": "45714c90-c86c-480d-9d5a-b123ddc221de",
   "metadata": {},
   "source": [
    "## LLM-as-a-Judge"
   ]
  },
  {
   "cell_type": "code",
   "execution_count": 182,
   "id": "391a257d-91f9-49c4-88d5-8d6c1b829fc9",
   "metadata": {},
   "outputs": [],
   "source": [
    "prompt1_template = \"\"\"\n",
    "You are an expert evaluator for a Retrieval-Augmented Generation (RAG) system.\n",
    "Your task is to analyze the relevance of the generated answer compared to the original answer provided.\n",
    "Based on the relevance and similarity of the generated answer to the original answer, you will classify\n",
    "it as \"NON_RELEVANT\", \"PARTLY_RELEVANT\", or \"RELEVANT\".\n",
    "\n",
    "Here is the data for evaluation:\n",
    "\n",
    "Original Answer: {answer_orig}\n",
    "Generated Question: {question}\n",
    "Generated Answer: {answer_llm}\n",
    "\n",
    "Please analyze the content and context of the generated answer in relation to the original\n",
    "answer and provide your evaluation in parsable JSON without using code blocks:\n",
    "\n",
    "{{\n",
    "  \"Relevance\": \"NON_RELEVANT\" | \"PARTLY_RELEVANT\" | \"RELEVANT\",\n",
    "  \"Explanation\": \"[Provide a brief explanation for your evaluation]\"\n",
    "}}\n",
    "\"\"\".strip()\n",
    "\n",
    "prompt2_template = \"\"\"\n",
    "You are an expert evaluator for a Retrieval-Augmented Generation (RAG) system.\n",
    "Your task is to analyze the relevance of the generated answer to the given question.\n",
    "Based on the relevance of the generated answer, you will classify it\n",
    "as \"NON_RELEVANT\", \"PARTLY_RELEVANT\", or \"RELEVANT\".\n",
    "\n",
    "Here is the data for evaluation:\n",
    "\n",
    "Question: {question}\n",
    "Generated Answer: {answer_llm}\n",
    "\n",
    "Please analyze the content and context of the generated answer in relation to the question\n",
    "and provide your evaluation in parsable JSON without using code blocks:\n",
    "\n",
    "{{\n",
    "  \"Relevance\": \"NON_RELEVANT\" | \"PARTLY_RELEVANT\" | \"RELEVANT\",\n",
    "  \"Explanation\": \"[Provide a brief explanation for your evaluation]\"\n",
    "}}\n",
    "\"\"\".strip()"
   ]
  },
  {
   "cell_type": "code",
   "execution_count": 183,
   "id": "3491c3b9-0b65-4409-bae6-b67e86cbcef0",
   "metadata": {},
   "outputs": [],
   "source": [
    "df_sample = df_gpt4o.sample(n=150, random_state=1)"
   ]
  },
  {
   "cell_type": "code",
   "execution_count": 184,
   "id": "944bfb79-aadd-4b9a-84ef-4aa15c0afbf8",
   "metadata": {},
   "outputs": [],
   "source": [
    "samples = df_sample.to_dict(orient='records')"
   ]
  },
  {
   "cell_type": "code",
   "execution_count": 185,
   "id": "e7df02a4-4da0-4171-983f-85dff38a3e0f",
   "metadata": {},
   "outputs": [
    {
     "data": {
      "text/plain": [
       "{'answer_llm': 'To ensure the output of a service creation is in JSON format, you can use the `-o json` flag with the `kubectl create service` command. Here is an example:\\n\\n```bash\\nkubectl create service [SERVICE_TYPE] [SERVICE_NAME] --dry-run=client -o json\\n```\\n\\nReplace `[SERVICE_TYPE]` and `[SERVICE_NAME]` with the appropriate service type and name you wish to create. The `--dry-run=client` flag is used to not actually create the service but to show the output in JSON format.',\n",
       " 'answer_orig': 'Create a service using a specified subcommand.\\n\\n```\\nkubectl create service [flags]\\n```',\n",
       " 'document': '8ef67423',\n",
       " 'question': 'How can you ensure the output of a service creation is in JSON format?',\n",
       " 'title': 'kubectl create service',\n",
       " 'cosine': 0.902371346950531}"
      ]
     },
     "execution_count": 185,
     "metadata": {},
     "output_type": "execute_result"
    }
   ],
   "source": [
    "record = samples[0]\n",
    "record"
   ]
  },
  {
   "cell_type": "code",
   "execution_count": 186,
   "id": "2c748941-aef1-4eae-aeb0-6a83957d05f7",
   "metadata": {},
   "outputs": [
    {
     "name": "stdout",
     "output_type": "stream",
     "text": [
      "You are an expert evaluator for a Retrieval-Augmented Generation (RAG) system.\n",
      "Your task is to analyze the relevance of the generated answer compared to the original answer provided.\n",
      "Based on the relevance and similarity of the generated answer to the original answer, you will classify\n",
      "it as \"NON_RELEVANT\", \"PARTLY_RELEVANT\", or \"RELEVANT\".\n",
      "\n",
      "Here is the data for evaluation:\n",
      "\n",
      "Original Answer: Create a service using a specified subcommand.\n",
      "\n",
      "```\n",
      "kubectl create service [flags]\n",
      "```\n",
      "Generated Question: How can you ensure the output of a service creation is in JSON format?\n",
      "Generated Answer: To ensure the output of a service creation is in JSON format, you can use the `-o json` flag with the `kubectl create service` command. Here is an example:\n",
      "\n",
      "```bash\n",
      "kubectl create service [SERVICE_TYPE] [SERVICE_NAME] --dry-run=client -o json\n",
      "```\n",
      "\n",
      "Replace `[SERVICE_TYPE]` and `[SERVICE_NAME]` with the appropriate service type and name you wish to create. The `--dry-run=client` flag is used to not actually create the service but to show the output in JSON format.\n",
      "\n",
      "Please analyze the content and context of the generated answer in relation to the original\n",
      "answer and provide your evaluation in parsable JSON without using code blocks:\n",
      "\n",
      "{\n",
      "  \"Relevance\": \"NON_RELEVANT\" | \"PARTLY_RELEVANT\" | \"RELEVANT\",\n",
      "  \"Explanation\": \"[Provide a brief explanation for your evaluation]\"\n",
      "}\n"
     ]
    }
   ],
   "source": [
    "prompt = prompt1_template.format(**record)\n",
    "print(prompt)"
   ]
  },
  {
   "cell_type": "code",
   "execution_count": 187,
   "id": "b3dae572-2165-41ac-9c51-c62d1f071a7b",
   "metadata": {},
   "outputs": [],
   "source": [
    "answer = llm(prompt, model='gpt-4o')"
   ]
  },
  {
   "cell_type": "code",
   "execution_count": 188,
   "id": "11b5f23d-3036-4ab7-89a6-4a38dbede127",
   "metadata": {},
   "outputs": [
    {
     "data": {
      "text/plain": [
       "'{\\n  \"Relevance\": \"PARTLY_RELEVANT\",\\n  \"Explanation\": \"The generated answer provides additional information related to the `kubectl create service` command, specifically regarding formatting the output in JSON using flags. While it is relevant to the `kubectl create service` command mentioned in the original answer, it does not directly address the primary intent of the original answer, which is focused on creating a service using a specified subcommand without emphasis on output formatting.\"\\n}'"
      ]
     },
     "execution_count": 188,
     "metadata": {},
     "output_type": "execute_result"
    }
   ],
   "source": [
    "answer"
   ]
  },
  {
   "cell_type": "code",
   "execution_count": 189,
   "id": "b1887e22-2f85-4115-8356-c1746f32383c",
   "metadata": {},
   "outputs": [],
   "source": [
    "import json"
   ]
  },
  {
   "cell_type": "code",
   "execution_count": 190,
   "id": "6277c639-f4ef-4efa-8fe7-1215f3176ae9",
   "metadata": {},
   "outputs": [
    {
     "name": "stderr",
     "output_type": "stream",
     "text": [
      "100%|██████████████████████████████████████████████████████████████████████████████████████████████████████████████| 150/150 [04:39<00:00,  1.86s/it]\n"
     ]
    }
   ],
   "source": [
    "evaluations = []\n",
    "\n",
    "for record in tqdm(samples):\n",
    "    prompt = prompt1_template.format(**record)\n",
    "    evaluation = llm(prompt, model='gpt-4o')\n",
    "    evaluations.append(evaluation)"
   ]
  },
  {
   "cell_type": "code",
   "execution_count": 191,
   "id": "7b74dc8f-42ad-45a7-b9e4-0c946e003e29",
   "metadata": {},
   "outputs": [
    {
     "data": {
      "text/plain": [
       "944"
      ]
     },
     "execution_count": 191,
     "metadata": {},
     "output_type": "execute_result"
    }
   ],
   "source": [
    "len(df_gpt4o)\n"
   ]
  },
  {
   "cell_type": "code",
   "execution_count": 192,
   "id": "a694bf88-ddf4-416d-b82b-239d6d15c1c0",
   "metadata": {},
   "outputs": [],
   "source": [
    "json_evaluations = []\n",
    "\n",
    "for i, str_eval in enumerate(evaluations):\n",
    "    json_eval = json.loads(str_eval)\n",
    "    json_evaluations.append(json_eval)"
   ]
  },
  {
   "cell_type": "code",
   "execution_count": 193,
   "id": "5f47a8cc-d708-40b2-ace5-c57057fb637c",
   "metadata": {},
   "outputs": [],
   "source": [
    "df_evaluations = pd.DataFrame(json_evaluations)"
   ]
  },
  {
   "cell_type": "code",
   "execution_count": 194,
   "id": "efc3c9d9-7e7e-4623-9aa6-b21580d28d2f",
   "metadata": {},
   "outputs": [
    {
     "data": {
      "text/plain": [
       "Relevance\n",
       "RELEVANT           109\n",
       "PARTLY_RELEVANT     38\n",
       "NON_RELEVANT         3\n",
       "Name: count, dtype: int64"
      ]
     },
     "execution_count": 194,
     "metadata": {},
     "output_type": "execute_result"
    }
   ],
   "source": [
    "df_evaluations.Relevance.value_counts()"
   ]
  },
  {
   "cell_type": "code",
   "execution_count": 195,
   "id": "84dfd1e9-be19-45aa-83d8-aaeb5aa16fc6",
   "metadata": {},
   "outputs": [
    {
     "data": {
      "text/html": [
       "<div>\n",
       "<style scoped>\n",
       "    .dataframe tbody tr th:only-of-type {\n",
       "        vertical-align: middle;\n",
       "    }\n",
       "\n",
       "    .dataframe tbody tr th {\n",
       "        vertical-align: top;\n",
       "    }\n",
       "\n",
       "    .dataframe thead th {\n",
       "        text-align: right;\n",
       "    }\n",
       "</style>\n",
       "<table border=\"1\" class=\"dataframe\">\n",
       "  <thead>\n",
       "    <tr style=\"text-align: right;\">\n",
       "      <th></th>\n",
       "      <th>Relevance</th>\n",
       "      <th>Explanation</th>\n",
       "    </tr>\n",
       "  </thead>\n",
       "  <tbody>\n",
       "    <tr>\n",
       "      <th>55</th>\n",
       "      <td>NON_RELEVANT</td>\n",
       "      <td>The generated answer incorrectly describes how...</td>\n",
       "    </tr>\n",
       "    <tr>\n",
       "      <th>63</th>\n",
       "      <td>NON_RELEVANT</td>\n",
       "      <td>The generated answer discusses disruptions and...</td>\n",
       "    </tr>\n",
       "    <tr>\n",
       "      <th>128</th>\n",
       "      <td>NON_RELEVANT</td>\n",
       "      <td>The generated answer focuses on explaining the...</td>\n",
       "    </tr>\n",
       "  </tbody>\n",
       "</table>\n",
       "</div>"
      ],
      "text/plain": [
       "        Relevance                                        Explanation\n",
       "55   NON_RELEVANT  The generated answer incorrectly describes how...\n",
       "63   NON_RELEVANT  The generated answer discusses disruptions and...\n",
       "128  NON_RELEVANT  The generated answer focuses on explaining the..."
      ]
     },
     "execution_count": 195,
     "metadata": {},
     "output_type": "execute_result"
    }
   ],
   "source": [
    "df_evaluations[df_evaluations.Relevance == 'NON_RELEVANT'] #.to_dict(orient='records')"
   ]
  },
  {
   "cell_type": "code",
   "execution_count": 197,
   "id": "dd234921-e081-4557-b6c2-74edd337b6a3",
   "metadata": {},
   "outputs": [
    {
     "data": {
      "text/plain": [
       "{'answer_llm': 'To specify which attributes of a fetched resource should be displayed using a template, you can use the `kubectl get` command with the `-o custom-columns` option. This allows you to define custom columns and specify the fields you want to display.\\n\\n```bash\\nkubectl get TYPE NAME -o custom-columns=<COLUMN_SPEC>\\n```\\n\\nReplace `<COLUMN_SPEC>` with your custom definitions to display specific attributes.',\n",
       " 'answer_orig': 'Display one or many resources.\\n\\n Prints a table of the most important information about the specified resources. You can filter the list using a label selector and the --selector flag. If the desired resource type is namespaced you will only see results in the current namespace if you don\\'t specify any namespace.\\n\\n By specifying the output as \\'template\\' and providing a Go template as the value of the --template flag, you can filter the attributes of the fetched resources.\\n\\nUse \"kubectl api-resources\" for a complete list of supported resources.\\n\\n```\\nkubectl get [(-o|--output=)json|yaml|name|go-template|go-template-file|template|templatefile|jsonpath|jsonpath-as-json|jsonpath-file|custom-columns|custom-columns-file|wide] (TYPE[.VERSION][.GROUP] [NAME | -l label] | TYPE[.VERSION][.GROUP]/NAME ...) [flags]\\n```\\n\\n```\\n  # List all pods in ps output format\\n  kubectl get pods\\n  \\n  # List all pods in ps output format with more information (such as node name)\\n  kubectl get pods -o wide\\n  \\n  # List a single replication controller with specified NAME in ps output format\\n  kubectl get replicationcontroller web\\n  \\n  # List deployments in JSON output format, in the \"v1\" version of the \"apps\" API group\\n  kubectl get deployments.v1.apps -o json\\n  \\n  # List a single pod in JSON output format\\n  kubectl get -o json pod web-pod-13je7\\n  \\n  # List a pod identified by type and name specified in \"pod.yaml\" in JSON output format\\n  kubectl get -f pod.yaml -o json\\n  \\n  # List resources from a directory with kustomization.yaml - e.g. dir/kustomization.yaml\\n  kubectl get -k dir/\\n  \\n  # Return only the phase value of the specified pod\\n  kubectl get -o template pod/web-pod-13je7 --template={{.status.phase}}\\n  \\n  # List resource information in custom columns\\n  kubectl get pod test-pod -o custom-columns=CONTAINER:.spec.containers[0].name,IMAGE:.spec.containers[0].image\\n  \\n  # List all replication controllers and services together in ps output format\\n  kubectl get rc,services\\n  \\n  # List one or more resources by their type and names\\n  kubectl get rc/web service/frontend pods/web-pod-13je7\\n  \\n  # List the \\'status\\' subresource for a single pod\\n  kubectl get pod web-pod-13je7 --subresource status\\n  \\n  # List all deployments in namespace \\'backend\\'\\n  kubectl get deployments.apps --namespace backend\\n  \\n  # List all pods existing in all namespaces\\n  kubectl get pods --all-namespaces\\n```',\n",
       " 'document': '97e3c70d',\n",
       " 'question': 'How can you specify which attributes of a fetched resource should be displayed using a template?',\n",
       " 'title': 'kubectl get',\n",
       " 'cosine': 0.8701504468917847}"
      ]
     },
     "execution_count": 197,
     "metadata": {},
     "output_type": "execute_result"
    }
   ],
   "source": [
    "samples[55]"
   ]
  },
  {
   "cell_type": "code",
   "execution_count": 198,
   "id": "128914bd-29e6-491c-a213-c89bfa687e42",
   "metadata": {},
   "outputs": [
    {
     "name": "stdout",
     "output_type": "stream",
     "text": [
      "You are an expert evaluator for a Retrieval-Augmented Generation (RAG) system.\n",
      "Your task is to analyze the relevance of the generated answer to the given question.\n",
      "Based on the relevance of the generated answer, you will classify it\n",
      "as \"NON_RELEVANT\", \"PARTLY_RELEVANT\", or \"RELEVANT\".\n",
      "\n",
      "Here is the data for evaluation:\n",
      "\n",
      "Question: What is an example of a situation where a watch would be more efficient than polling in Kubernetes?\n",
      "Generated Answer: A watch would be more efficient than polling in a situation where a component needs to know whenever a ConfigMap has changed. Using a watch allows for efficient detection of changes by providing changes as a stream, rather than repeatedly checking (polling) for changes at intervals.\n",
      "\n",
      "Please analyze the content and context of the generated answer in relation to the question\n",
      "and provide your evaluation in parsable JSON without using code blocks:\n",
      "\n",
      "{\n",
      "  \"Relevance\": \"NON_RELEVANT\" | \"PARTLY_RELEVANT\" | \"RELEVANT\",\n",
      "  \"Explanation\": \"[Provide a brief explanation for your evaluation]\"\n",
      "}\n"
     ]
    }
   ],
   "source": [
    "prompt = prompt2_template.format(**record)\n",
    "print(prompt)"
   ]
  },
  {
   "cell_type": "code",
   "execution_count": 199,
   "id": "e2dcfb1f-7332-4978-859b-d1c3dee9090c",
   "metadata": {},
   "outputs": [
    {
     "name": "stdout",
     "output_type": "stream",
     "text": [
      "{\n",
      "  \"Relevance\": \"RELEVANT\",\n",
      "  \"Explanation\": \"The generated answer effectively addresses the question by providing a specific example where watch is more efficient than polling in Kubernetes. It describes a scenario involving a ConfigMap, highlighting the efficiency of using a watch for detecting changes, which aligns with the requirements of the question.\"\n",
      "}\n"
     ]
    }
   ],
   "source": [
    "evaluation = llm(prompt, model='gpt-4o')\n",
    "print(evaluation)"
   ]
  },
  {
   "cell_type": "code",
   "execution_count": 200,
   "id": "0837ee69-4972-4378-87ad-2b0c7b13d03d",
   "metadata": {},
   "outputs": [
    {
     "name": "stderr",
     "output_type": "stream",
     "text": [
      "100%|██████████████████████████████████████████████████████████████████████████████████████████████████████████████| 150/150 [05:04<00:00,  2.03s/it]\n"
     ]
    }
   ],
   "source": [
    "evaluations_2 = []\n",
    "\n",
    "for record in tqdm(samples):\n",
    "    prompt = prompt2_template.format(**record)\n",
    "    evaluation = llm(prompt, model='gpt-4o')\n",
    "    evaluations_2.append(evaluation)"
   ]
  },
  {
   "cell_type": "code",
   "execution_count": 201,
   "id": "fc9a182b-f357-45ad-a584-dc761d7e7209",
   "metadata": {},
   "outputs": [],
   "source": [
    "json_evaluations_2 = []\n",
    "\n",
    "for i, str_eval in enumerate(evaluations_2):\n",
    "    json_eval = json.loads(str_eval)\n",
    "    json_evaluations_2.append(json_eval)"
   ]
  },
  {
   "cell_type": "code",
   "execution_count": 202,
   "id": "12139511-e960-4e60-9618-16294facc9d9",
   "metadata": {},
   "outputs": [],
   "source": [
    "df_evaluations_2 = pd.DataFrame(json_evaluations_2)"
   ]
  },
  {
   "cell_type": "code",
   "execution_count": 203,
   "id": "74ac32c0-a6e2-4c3b-ae01-e6d1627b609d",
   "metadata": {},
   "outputs": [
    {
     "data": {
      "text/plain": [
       "Relevance\n",
       "RELEVANT           102\n",
       "PARTLY_RELEVANT     42\n",
       "NON_RELEVANT         6\n",
       "Name: count, dtype: int64"
      ]
     },
     "execution_count": 203,
     "metadata": {},
     "output_type": "execute_result"
    }
   ],
   "source": [
    "df_evaluations_2.Relevance.value_counts()"
   ]
  },
  {
   "cell_type": "code",
   "execution_count": 204,
   "id": "9e4925ca-769d-416d-a7c3-619696fef921",
   "metadata": {},
   "outputs": [
    {
     "data": {
      "text/html": [
       "<div>\n",
       "<style scoped>\n",
       "    .dataframe tbody tr th:only-of-type {\n",
       "        vertical-align: middle;\n",
       "    }\n",
       "\n",
       "    .dataframe tbody tr th {\n",
       "        vertical-align: top;\n",
       "    }\n",
       "\n",
       "    .dataframe thead th {\n",
       "        text-align: right;\n",
       "    }\n",
       "</style>\n",
       "<table border=\"1\" class=\"dataframe\">\n",
       "  <thead>\n",
       "    <tr style=\"text-align: right;\">\n",
       "      <th></th>\n",
       "      <th>Relevance</th>\n",
       "      <th>Explanation</th>\n",
       "    </tr>\n",
       "  </thead>\n",
       "  <tbody>\n",
       "    <tr>\n",
       "      <th>51</th>\n",
       "      <td>NON_RELEVANT</td>\n",
       "      <td>The proposed command 'kubectl get pods -A -o=c...</td>\n",
       "    </tr>\n",
       "    <tr>\n",
       "      <th>61</th>\n",
       "      <td>NON_RELEVANT</td>\n",
       "      <td>The generated answer suggests using 'kubectl c...</td>\n",
       "    </tr>\n",
       "    <tr>\n",
       "      <th>63</th>\n",
       "      <td>NON_RELEVANT</td>\n",
       "      <td>The generated answer discusses 'disruptions' a...</td>\n",
       "    </tr>\n",
       "    <tr>\n",
       "      <th>89</th>\n",
       "      <td>NON_RELEVANT</td>\n",
       "      <td>The generated answer mentions key, value, and ...</td>\n",
       "    </tr>\n",
       "    <tr>\n",
       "      <th>99</th>\n",
       "      <td>NON_RELEVANT</td>\n",
       "      <td>The generated answer incorrectly suggests usin...</td>\n",
       "    </tr>\n",
       "    <tr>\n",
       "      <th>119</th>\n",
       "      <td>NON_RELEVANT</td>\n",
       "      <td>The generated answer states that 'Drivers' cre...</td>\n",
       "    </tr>\n",
       "  </tbody>\n",
       "</table>\n",
       "</div>"
      ],
      "text/plain": [
       "        Relevance                                        Explanation\n",
       "51   NON_RELEVANT  The proposed command 'kubectl get pods -A -o=c...\n",
       "61   NON_RELEVANT  The generated answer suggests using 'kubectl c...\n",
       "63   NON_RELEVANT  The generated answer discusses 'disruptions' a...\n",
       "89   NON_RELEVANT  The generated answer mentions key, value, and ...\n",
       "99   NON_RELEVANT  The generated answer incorrectly suggests usin...\n",
       "119  NON_RELEVANT  The generated answer states that 'Drivers' cre..."
      ]
     },
     "execution_count": 204,
     "metadata": {},
     "output_type": "execute_result"
    }
   ],
   "source": [
    "df_evaluations_2[df_evaluations_2.Relevance == 'NON_RELEVANT']"
   ]
  },
  {
   "cell_type": "code",
   "execution_count": 205,
   "id": "4cf5cad6-e3b6-4b0e-bedf-5279bf9c9f45",
   "metadata": {},
   "outputs": [
    {
     "data": {
      "text/plain": [
       "{'answer_llm': \"To display all metadata fields for pods in every namespace, regardless of their specific names, use the following command:\\n\\n```bash\\nkubectl get pods -A -o=custom-columns='DATA:metadata.*'\\n```\",\n",
       " 'answer_orig': '```bash\\n# All images running in a cluster\\nkubectl get pods -A -o=custom-columns=\\'DATA:spec.containers[*].image\\'\\n\\n# All images running in namespace: default, grouped by Pod\\nkubectl get pods --namespace default --output=custom-columns=\"NAME:.metadata.name,IMAGE:.spec.containers[*].image\"\\n\\n # All images excluding \"registry.k8s.io/coredns:1.6.2\"\\nkubectl get pods -A -o=custom-columns=\\'DATA:spec.containers[?(@.image!=\"registry.k8s.io/coredns:1.6.2\")].image\\'\\n\\n# All fields under metadata regardless of name\\nkubectl get pods -A -o=custom-columns=\\'DATA:metadata.*\\'\\n```\\n\\nMore examples in the kubectl [reference documentation](/docs/reference/kubectl/#custom-columns).',\n",
       " 'document': '03465c70',\n",
       " 'question': 'How would you display all metadata fields for pods in every namespace, regardless of their specific names?',\n",
       " 'title': 'kubectl Quick Reference',\n",
       " 'cosine': 0.93705153465271}"
      ]
     },
     "execution_count": 205,
     "metadata": {},
     "output_type": "execute_result"
    }
   ],
   "source": [
    "samples[51]"
   ]
  },
  {
   "cell_type": "markdown",
   "id": "b63d614f-9692-46da-bd5c-8bebdb137ad5",
   "metadata": {},
   "source": [
    "### Saving all the data"
   ]
  },
  {
   "cell_type": "code",
   "execution_count": 206,
   "id": "622b2fea-907d-484d-9c23-1b9ec0278d4b",
   "metadata": {},
   "outputs": [],
   "source": [
    "df_gpt4o.to_csv('../data_gloss/results-gpt4o-cosine.csv', index=False)\n",
    "df_gpt35.to_csv('../data_gloss/results-gpt35-cosine.csv', index=False)"
   ]
  },
  {
   "cell_type": "code",
   "execution_count": 207,
   "id": "6ed6d64d-4e7c-4a1f-b5ab-08f28620116f",
   "metadata": {},
   "outputs": [],
   "source": [
    "df_evaluations.to_csv('../data_gloss/evaluations-aqa.csv', index=False)\n",
    "df_evaluations_2.to_csv('../data_gloss/evaluations-qa.csv', index=False)"
   ]
  },
  {
   "cell_type": "code",
   "execution_count": null,
   "id": "913591fe-d90d-4bd7-9842-c6727a3e4df7",
   "metadata": {},
   "outputs": [],
   "source": []
  }
 ],
 "metadata": {
  "kernelspec": {
   "display_name": "Python 3 (ipykernel)",
   "language": "python",
   "name": "python3"
  },
  "language_info": {
   "codemirror_mode": {
    "name": "ipython",
    "version": 3
   },
   "file_extension": ".py",
   "mimetype": "text/x-python",
   "name": "python",
   "nbconvert_exporter": "python",
   "pygments_lexer": "ipython3",
   "version": "3.8.18"
  }
 },
 "nbformat": 4,
 "nbformat_minor": 5
}
