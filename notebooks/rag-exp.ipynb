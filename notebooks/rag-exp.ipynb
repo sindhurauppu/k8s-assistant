{
 "cells": [
  {
   "cell_type": "markdown",
   "id": "1f7ac3c5-7b24-47f5-8a1b-519beb47d75e",
   "metadata": {},
   "source": [
    "## RAG FLOW"
   ]
  },
  {
   "cell_type": "markdown",
   "id": "7bf8c750-ae40-4f77-a178-2f1d26cc63e1",
   "metadata": {},
   "source": [
    "### MinSearch"
   ]
  },
  {
   "cell_type": "code",
   "execution_count": 33,
   "id": "37c89f96-b792-494a-945f-46e3fb5e715b",
   "metadata": {},
   "outputs": [],
   "source": [
    "import minsearch\n",
    "import json"
   ]
  },
  {
   "cell_type": "code",
   "execution_count": 35,
   "id": "e4ddff87-b48d-4cdd-a30b-a9cb5639a4f3",
   "metadata": {},
   "outputs": [],
   "source": [
    "with open('../data_gloss/kubernetes_docs_combined.json', 'rt') as f_in:\n",
    "    docs_raw = json.load(f_in)"
   ]
  },
  {
   "cell_type": "code",
   "execution_count": 36,
   "id": "26ad7acf-982d-4cad-96a4-efa3ea2a2dcd",
   "metadata": {},
   "outputs": [
    {
     "data": {
      "text/plain": [
       "229"
      ]
     },
     "execution_count": 36,
     "metadata": {},
     "output_type": "execute_result"
    }
   ],
   "source": [
    "len(docs_raw)"
   ]
  },
  {
   "cell_type": "code",
   "execution_count": 45,
   "id": "bfda7138-611b-41bf-9435-93c646a39936",
   "metadata": {},
   "outputs": [],
   "source": [
    "index = minsearch.Index(\n",
    "    text_fields=[\"title\", \"text\"],\n",
    "    keyword_fields=[\"source_file\"]\n",
    ")"
   ]
  },
  {
   "cell_type": "code",
   "execution_count": 46,
   "id": "ed5eb92b-c794-4c60-9990-145bb963df85",
   "metadata": {},
   "outputs": [],
   "source": [
    "q = \"How do I get pods status?\""
   ]
  },
  {
   "cell_type": "code",
   "execution_count": 47,
   "id": "f699713e-600e-4c12-a6df-65addd7300cd",
   "metadata": {},
   "outputs": [],
   "source": [
    "documents = docs_raw"
   ]
  },
  {
   "cell_type": "code",
   "execution_count": 48,
   "id": "3e272876-32c0-4c13-838d-4b9b1450be73",
   "metadata": {},
   "outputs": [
    {
     "data": {
      "text/plain": [
       "<minsearch.minsearch.Index at 0x11864a250>"
      ]
     },
     "execution_count": 48,
     "metadata": {},
     "output_type": "execute_result"
    }
   ],
   "source": [
    "index.fit(documents)"
   ]
  },
  {
   "cell_type": "code",
   "execution_count": 49,
   "id": "3b0010a4-384c-4732-b976-4d435e1f0bc4",
   "metadata": {},
   "outputs": [],
   "source": [
    "from openai import OpenAI"
   ]
  },
  {
   "cell_type": "code",
   "execution_count": 50,
   "id": "2993cd6a-3aa3-45a8-a8c0-dfa0ea6e2b3d",
   "metadata": {},
   "outputs": [],
   "source": [
    "client = OpenAI()"
   ]
  },
  {
   "cell_type": "code",
   "execution_count": 56,
   "id": "547ef9bb-0998-406a-ab57-69fc8dcd298e",
   "metadata": {},
   "outputs": [
    {
     "data": {
      "text/plain": [
       "'To check the status of pods in a Kubernetes cluster, you can use the `kubectl` command-line tool, which is the primary interface for communicating with the Kubernetes API server.\\n\\nHere are steps and commands you can use to get the status of your pods:\\n\\n1. **Check the Status of All Pods in the Default Namespace**:\\n   Run the following command to list all the pods and their statuses in the default namespace.\\n\\n   ```bash\\n   kubectl get pods\\n   ```\\n\\n   This command will output a list of pods with their names, readiness status, status, restarts count, and age.\\n\\n2. **Check the Status of All Pods in a Specific Namespace**:\\n   If your pods are in a namespace other than the default, you can specify the namespace like so:\\n\\n   ```bash\\n   kubectl get pods -n your-namespace\\n   ```\\n\\n   Replace `your-namespace` with the name of your namespace.\\n\\n3. **Get Detailed Information About a Specific Pod**:\\n   To get detailed information about a particular pod, use:\\n\\n   ```bash\\n   kubectl describe pod pod-name\\n   ```\\n\\n   Replace `pod-name` with the name of the pod you want to investigate. This command provides detailed information about the pod, including its events and state.\\n\\n4. **Watch Pod Status**:\\n   If you want to continuously monitor the status of pods, you can use the `--watch` option, which will update in real-time as pod statuses change:\\n\\n   ```bash\\n   kubectl get pods --watch\\n   ```\\n   \\n   Or for a specific namespace:\\n\\n   ```bash\\n   kubectl get pods -n your-namespace --watch\\n   ```\\n\\n5. **Get Pod Logs**:\\n   If a pod is in an error state or not running as expected, viewing the logs can help diagnose the issue:\\n\\n   ```bash\\n   kubectl logs pod-name\\n   ```\\n\\n   For pods with multiple containers, specify the container name like so:\\n\\n   ```bash\\n   kubectl logs pod-name -c container-name\\n   ```\\n\\nThese commands should help you obtain the current status and troubleshoot issues with pods in your Kubernetes cluster. Make sure you have the necessary permissions to access the cluster and namespace you are working with.'"
      ]
     },
     "execution_count": 56,
     "metadata": {},
     "output_type": "execute_result"
    }
   ],
   "source": [
    "response = client.chat.completions.create(\n",
    "    model='gpt-4o',\n",
    "    messages=[{\"role\": \"user\", \"content\": q}]\n",
    ")\n",
    "\n",
    "response.choices[0].message.content"
   ]
  },
  {
   "cell_type": "code",
   "execution_count": 57,
   "id": "313477a9-7d17-488e-9e39-5925ed3a4bf0",
   "metadata": {},
   "outputs": [],
   "source": [
    "def search(query):\n",
    "    boost = {'title': 3.0, 'source_file': 0.5}\n",
    "\n",
    "    results = index.search(\n",
    "        query=query,\n",
    "        num_results=5\n",
    "    )\n",
    "\n",
    "    return results"
   ]
  },
  {
   "cell_type": "code",
   "execution_count": 58,
   "id": "b7901955-3cbe-44d8-b181-138e9e3e9554",
   "metadata": {},
   "outputs": [],
   "source": [
    "def build_prompt(query, search_results):\n",
    "    prompt_template = \"\"\"\n",
    "You are a Kubernetes assistant. Use ONLY the information in the \"context\" to answer the user's question.\n",
    "\n",
    "REQUIREMENTS:\n",
    "- Output ONLY raw Markdown text (no surrounding quotes, no JSON, no markdown in a string).\n",
    "- Use literal line breaks for paragraphs and fenced code blocks for commands (```bash ... ```).\n",
    "- Do NOT include backslash-n sequences (\"\\n\") to indicate newlines — use real newlines.\n",
    "- Do not escape code blocks or wrap them in a string.\n",
    "- Return the answer only (no meta commentary).\n",
    "\n",
    "Example of desired output:\n",
    "To apply a YAML file in Kubernetes, use the following command:\n",
    "\n",
    "```bash\n",
    "kubectl apply -f FILENAME.yaml\n",
    "\n",
    "Context:\n",
    "{context}\n",
    "\n",
    "User's Question:\n",
    "{question}\n",
    "\n",
    "Answer:\n",
    "\"\"\".strip()\n",
    "\n",
    "    context = \"\"\n",
    "    \n",
    "    for doc in search_results:\n",
    "        context = context + f\"title: {doc['title']}\\nanswer: {doc['text']}\\n\\n\"\n",
    "    \n",
    "    prompt = prompt_template.format(question=query, context=context).strip()\n",
    "    return prompt"
   ]
  },
  {
   "cell_type": "code",
   "execution_count": 59,
   "id": "6dd4ccbe-d7a7-41d4-83a8-d03c3d6cd3f8",
   "metadata": {},
   "outputs": [],
   "source": [
    "def llm(prompt):\n",
    "    response = client.chat.completions.create(\n",
    "        model='gpt-4o',\n",
    "        messages=[{\"role\": \"user\", \"content\": prompt}]\n",
    "    )\n",
    "    \n",
    "    return response.choices[0].message.content"
   ]
  },
  {
   "cell_type": "code",
   "execution_count": 60,
   "id": "f61bffff-99d2-4b15-ba5a-f0c7ed03a33f",
   "metadata": {},
   "outputs": [],
   "source": [
    "query = 'how do I get status of pods in Kubernetes?'\n",
    "\n",
    "def rag(query):\n",
    "    search_results = search(query)\n",
    "    prompt = build_prompt(query, search_results)\n",
    "    answer = llm(prompt)\n",
    "    return answer"
   ]
  },
  {
   "cell_type": "code",
   "execution_count": 61,
   "id": "43fdd865-0421-4e9c-be7e-9f6ddd7eb02b",
   "metadata": {},
   "outputs": [
    {
     "data": {
      "text/plain": [
       "'To get the status of pods in Kubernetes, you can use the `kubectl get` command:\\n\\n```bash\\nkubectl get pods\\n```'"
      ]
     },
     "execution_count": 61,
     "metadata": {},
     "output_type": "execute_result"
    }
   ],
   "source": [
    "rag(query)"
   ]
  },
  {
   "cell_type": "code",
   "execution_count": 62,
   "id": "1cd82d4e-768d-41d7-bafe-678fed52f238",
   "metadata": {},
   "outputs": [],
   "source": [
    "query2 = \"Give me the command to apply a yaml file in Kubernetes\""
   ]
  },
  {
   "cell_type": "code",
   "execution_count": 63,
   "id": "d69ee5b8-eb3f-4e58-ae7a-d8eb9c6611c2",
   "metadata": {},
   "outputs": [
    {
     "data": {
      "text/plain": [
       "'To apply a YAML file in Kubernetes, use the following command:\\n\\n```bash\\nkubectl apply -f FILENAME.yaml\\n```'"
      ]
     },
     "execution_count": 63,
     "metadata": {},
     "output_type": "execute_result"
    }
   ],
   "source": [
    "rag(query2)"
   ]
  },
  {
   "cell_type": "code",
   "execution_count": 64,
   "id": "4bb9ab60-840a-46e2-b642-4bbe30db07ca",
   "metadata": {},
   "outputs": [],
   "source": [
    "answer = rag(query2)\n",
    "answer = answer.replace(\"\\\\n\", \"\\n\")"
   ]
  },
  {
   "cell_type": "code",
   "execution_count": 65,
   "id": "fad92c45-2fa0-4ea5-ae46-9a69be17d29f",
   "metadata": {},
   "outputs": [
    {
     "data": {
      "text/plain": [
       "'To apply a YAML file in Kubernetes, use the following command:\\n\\n```bash\\nkubectl apply -f FILENAME.yaml\\n```'"
      ]
     },
     "execution_count": 65,
     "metadata": {},
     "output_type": "execute_result"
    }
   ],
   "source": [
    "answer"
   ]
  },
  {
   "cell_type": "markdown",
   "id": "adcb85f8-dd2c-490d-b294-a849a39f28ab",
   "metadata": {},
   "source": [
    "### Elastic Search"
   ]
  },
  {
   "cell_type": "code",
   "execution_count": 66,
   "id": "4e750f46-35a3-4f2e-902e-bb0c43762cc4",
   "metadata": {},
   "outputs": [],
   "source": [
    "from elasticsearch import Elasticsearch"
   ]
  },
  {
   "cell_type": "code",
   "execution_count": 67,
   "id": "ed543deb-52eb-4635-85f2-7b96c7d0474c",
   "metadata": {},
   "outputs": [],
   "source": [
    "es_client = Elasticsearch('http://localhost:9200') "
   ]
  },
  {
   "cell_type": "code",
   "execution_count": 69,
   "id": "2af9d347-ccba-4ef9-b1f0-34e48f69b00c",
   "metadata": {},
   "outputs": [
    {
     "name": "stderr",
     "output_type": "stream",
     "text": [
      "/var/folders/x1/0r7y2h8j4c52sbjgqxwc9m5c0000gn/T/ipykernel_59975/150554304.py:32: DeprecationWarning: The 'body' parameter is deprecated and will be removed in a future version. Instead use individual parameters.\n",
      "  es_client.indices.create(index=index_name, body=index_settings)\n"
     ]
    },
    {
     "data": {
      "text/plain": [
       "ObjectApiResponse({'acknowledged': True, 'shards_acknowledged': True, 'index': 'k8s_docs'})"
      ]
     },
     "execution_count": 69,
     "metadata": {},
     "output_type": "execute_result"
    }
   ],
   "source": [
    "index_settings = {\n",
    "  \"settings\": {\n",
    "    \"analysis\": {\n",
    "      \"analyzer\": {\n",
    "        \"english_analyzer\": {\n",
    "          \"type\": \"custom\",\n",
    "          \"tokenizer\": \"standard\",\n",
    "          \"filter\": [\n",
    "            \"lowercase\",\n",
    "            \"stop\",\n",
    "            \"porter_stem\"\n",
    "          ]\n",
    "        }\n",
    "      }\n",
    "    }\n",
    "  },\n",
    "  \"mappings\": {\n",
    "    \"properties\": {\n",
    "      \"title\": { \"type\": \"text\", \"analyzer\": \"english_analyzer\" },\n",
    "      \"content_type\": { \"type\": \"keyword\" },\n",
    "      \"source_file\": { \"type\": \"keyword\" },\n",
    "      \"weight\": { \"type\": \"integer\" },\n",
    "      \"chunk_id\": { \"type\": \"keyword\" },\n",
    "      \"chunk_text\": { \"type\": \"text\", \"analyzer\": \"english_analyzer\" }\n",
    "    }\n",
    "  }\n",
    "}\n",
    "\n",
    "index_name = \"k8s_docs\"\n",
    "\n",
    "es_client.indices.delete(index=index_name)\n",
    "es_client.indices.create(index=index_name, body=index_settings)"
   ]
  },
  {
   "cell_type": "code",
   "execution_count": 70,
   "id": "e0d5a477-b31f-4fd3-b4c4-39034d1b8745",
   "metadata": {},
   "outputs": [
    {
     "data": {
      "text/plain": [
       "{'title': 'Label',\n",
       " 'text': 'Tags objects with identifying attributes that are meaningful and relevant to users.\\n\\n<!--more--> \\n\\nLabels are key/value pairs that are attached to objects such as . They are used to organize and to select subsets of objects.',\n",
       " 'source_file': 'label.md'}"
      ]
     },
     "execution_count": 70,
     "metadata": {},
     "output_type": "execute_result"
    }
   ],
   "source": [
    "documents[0]"
   ]
  },
  {
   "cell_type": "code",
   "execution_count": 71,
   "id": "0e78ab45-1151-4d03-a141-047de1713641",
   "metadata": {},
   "outputs": [],
   "source": [
    "from tqdm.auto import tqdm"
   ]
  },
  {
   "cell_type": "code",
   "execution_count": 72,
   "id": "4afb2cce-2edb-4adb-b0c3-663064ecb585",
   "metadata": {},
   "outputs": [
    {
     "name": "stderr",
     "output_type": "stream",
     "text": [
      "100%|█████████████████████████████████████████████████████████████████████████████████████████████████████████████| 229/229 [00:00<00:00, 438.57it/s]\n"
     ]
    }
   ],
   "source": [
    "for doc in tqdm(documents):\n",
    "    es_client.index(index=index_name, document=doc)"
   ]
  },
  {
   "cell_type": "code",
   "execution_count": 73,
   "id": "ad481d66-0dba-464c-9950-c1ba4cb87419",
   "metadata": {},
   "outputs": [],
   "source": [
    "def elastic_search(query):\n",
    "    search_query = {\n",
    "        \"bool\": {\n",
    "            \"must\": [\n",
    "                {\n",
    "                    \"multi_match\": {\n",
    "                        \"query\": query,\n",
    "                        \"fields\": [\"chunk_text^3\", \"title\", \"source_file\"],\n",
    "                        \"type\": \"best_fields\"\n",
    "                    }\n",
    "                }\n",
    "            ]\n",
    "        }\n",
    "    }\n",
    "    \n",
    "    response = es_client.search(index=index_name, query=search_query, size=5)\n",
    "    \n",
    "    result_docs = []\n",
    "    \n",
    "    for hit in response['hits']['hits']:\n",
    "        result_docs.append(hit['_source'])\n",
    "    \n",
    "    return result_docs"
   ]
  },
  {
   "cell_type": "code",
   "execution_count": 74,
   "id": "eace4c8a-531e-48c1-8f93-06474192f8c1",
   "metadata": {},
   "outputs": [],
   "source": [
    "def rag_elastic(query):\n",
    "    search_results = elastic_search(query)\n",
    "    prompt = build_prompt(query, search_results)\n",
    "    answer = llm(prompt)\n",
    "    return answer"
   ]
  },
  {
   "cell_type": "code",
   "execution_count": 75,
   "id": "473e7116-9f23-4dee-859c-335c0409f2ce",
   "metadata": {},
   "outputs": [
    {
     "data": {
      "text/plain": [
       "'To get the status of pods in Kubernetes, use the following command:\\n\\n```bash\\nkubectl get pods\\n```'"
      ]
     },
     "execution_count": 75,
     "metadata": {},
     "output_type": "execute_result"
    }
   ],
   "source": [
    "rag_elastic(query)"
   ]
  },
  {
   "cell_type": "code",
   "execution_count": 76,
   "id": "1feaf442-8e23-43fd-8d4c-35dd341f9034",
   "metadata": {},
   "outputs": [],
   "source": [
    "query3 = \"What IP is assigned by default to a service?\""
   ]
  },
  {
   "cell_type": "code",
   "execution_count": 77,
   "id": "6987a1f8-c6d2-467a-b44a-8ec9d7c9706e",
   "metadata": {},
   "outputs": [
    {
     "data": {
      "text/plain": [
       "'The context provided does not specify what IP is assigned by default to a service.'"
      ]
     },
     "execution_count": 77,
     "metadata": {},
     "output_type": "execute_result"
    }
   ],
   "source": [
    "rag_elastic(query3)"
   ]
  },
  {
   "cell_type": "code",
   "execution_count": 78,
   "id": "15615c99-6d4a-43f9-b784-4e2cba8cab00",
   "metadata": {},
   "outputs": [
    {
     "data": {
      "text/plain": [
       "'Show details of a specific resource or group of resources.\\n\\nPrint a detailed description of the selected resources, including related resources such as events or controllers. You may select a single object by name, all objects of that type, provide a name prefix, or label selector. For example:\\n\\n```bash\\n$ kubectl describe TYPE NAME_PREFIX\\n```\\n\\nThis command will first check for an exact match on TYPE and NAME_PREFIX. If no such resource exists, it will output details for every resource that has a name prefixed with NAME_PREFIX.\\n\\nUse \"kubectl api-resources\" for a complete list of supported resources.\\n\\n```bash\\nkubectl describe (-f FILENAME | TYPE [NAME_PREFIX | -l label] | TYPE/NAME)\\n```\\n\\n```bash\\n# Describe a node\\nkubectl describe nodes kubernetes-node-emt8.c.myproject.internal\\n\\n# Describe a pod\\nkubectl describe pods/nginx\\n\\n# Describe a pod identified by type and name in \"pod.json\"\\nkubectl describe -f pod.json\\n\\n# Describe all pods\\nkubectl describe pods\\n\\n# Describe pods by label name=myLabel\\nkubectl describe pods -l name=myLabel\\n\\n# Describe all pods managed by the \\'frontend\\' replication controller\\n# (rc-created pods get the name of the rc as a prefix in the pod name)\\nkubectl describe pods frontend\\n```'"
      ]
     },
     "execution_count": 78,
     "metadata": {},
     "output_type": "execute_result"
    }
   ],
   "source": [
    "query4 = \"What does kubectl describe do?\"\n",
    "rag_elastic(query4)"
   ]
  },
  {
   "cell_type": "code",
   "execution_count": null,
   "id": "7369cf7b-431e-458b-8796-05146a94138a",
   "metadata": {},
   "outputs": [],
   "source": []
  }
 ],
 "metadata": {
  "kernelspec": {
   "display_name": "Python 3 (ipykernel)",
   "language": "python",
   "name": "python3"
  },
  "language_info": {
   "codemirror_mode": {
    "name": "ipython",
    "version": 3
   },
   "file_extension": ".py",
   "mimetype": "text/x-python",
   "name": "python",
   "nbconvert_exporter": "python",
   "pygments_lexer": "ipython3",
   "version": "3.8.18"
  }
 },
 "nbformat": 4,
 "nbformat_minor": 5
}
